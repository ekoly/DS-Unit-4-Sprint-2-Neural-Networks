{
 "cells": [
  {
   "cell_type": "markdown",
   "metadata": {
    "colab_type": "text",
    "id": "pBQsZEJmubLs"
   },
   "source": [
    "<img align=\"left\" src=\"https://lever-client-logos.s3.amazonaws.com/864372b1-534c-480e-acd5-9711f850815c-1524247202159.png\" width=200>\n",
    "<br></br>\n",
    "\n",
    "# Neural Network Framework (Keras)\n",
    "\n",
    "## *Data Science Unit 4 Sprint 2 Assignmnet 3*\n",
    "\n",
    "## Use the Keras Library to build a Multi-Layer Perceptron Model on the Boston Housing dataset\n",
    "\n",
    "- The Boston Housing dataset comes with the Keras library so use Keras to import it into your notebook. \n",
    "- Normalize the data (all features should have roughly the same scale)\n",
    "- Import the type of model and layers that you will need from Keras.\n",
    "- Instantiate a model object and use `model.add()` to add layers to your model\n",
    "- Since this is a regression model you will have a single output node in the final layer.\n",
    "- Use activation functions that are appropriate for this task\n",
    "- Compile your model\n",
    "- Fit your model and report its accuracy in terms of Mean Squared Error\n",
    "- Use the history object that is returned from model.fit to make graphs of the model's loss or train/validation accuracies by epoch. \n",
    "- Run this same data through a linear regression model. Which achieves higher accuracy?\n",
    "- Do a little bit of feature engineering and see how that affects your neural network model. (you will need to change your model to accept more inputs)\n",
    "- After feature engineering, which model sees a greater accuracy boost due to the new features?"
   ]
  },
  {
   "cell_type": "code",
   "execution_count": 59,
   "metadata": {
    "colab": {},
    "colab_type": "code",
    "id": "8NLTAR87uYJ-"
   },
   "outputs": [
    {
     "data": {
      "text/plain": [
       "array([[1.23247e+00, 0.00000e+00, 8.14000e+00, ..., 2.10000e+01,\n",
       "        3.96900e+02, 1.87200e+01],\n",
       "       [2.17700e-02, 8.25000e+01, 2.03000e+00, ..., 1.47000e+01,\n",
       "        3.95380e+02, 3.11000e+00],\n",
       "       [4.89822e+00, 0.00000e+00, 1.81000e+01, ..., 2.02000e+01,\n",
       "        3.75520e+02, 3.26000e+00],\n",
       "       ...,\n",
       "       [3.46600e-02, 3.50000e+01, 6.06000e+00, ..., 1.69000e+01,\n",
       "        3.62250e+02, 7.83000e+00],\n",
       "       [2.14918e+00, 0.00000e+00, 1.95800e+01, ..., 1.47000e+01,\n",
       "        2.61950e+02, 1.57900e+01],\n",
       "       [1.43900e-02, 6.00000e+01, 2.93000e+00, ..., 1.56000e+01,\n",
       "        3.76700e+02, 4.38000e+00]])"
      ]
     },
     "execution_count": 59,
     "metadata": {},
     "output_type": "execute_result"
    }
   ],
   "source": [
    "from sklearn import datasets\n",
    "boston = datasets.load_boston()\n",
    "feature_names = boston[\"feature_names\"]\n",
    "\n",
    "from keras import datasets\n",
    "(X_train, y_train), (X_test, y_test) = datasets.boston_housing.load_data()\n",
    "X_train"
   ]
  },
  {
   "cell_type": "code",
   "execution_count": 60,
   "metadata": {},
   "outputs": [
    {
     "data": {
      "text/plain": [
       "array([15.2, 42.3, 50. , 21.1, 17.7, 18.5, 11.3, 15.6, 15.6, 14.4, 12.1,\n",
       "       17.9, 23.1, 19.9, 15.7,  8.8, 50. , 22.5, 24.1, 27.5, 10.9, 30.8,\n",
       "       32.9, 24. , 18.5, 13.3, 22.9, 34.7, 16.6, 17.5, 22.3, 16.1, 14.9,\n",
       "       23.1, 34.9, 25. , 13.9, 13.1, 20.4, 20. , 15.2, 24.7, 22.2, 16.7,\n",
       "       12.7, 15.6, 18.4, 21. , 30.1, 15.1, 18.7,  9.6, 31.5, 24.8, 19.1,\n",
       "       22. , 14.5, 11. , 32. , 29.4, 20.3, 24.4, 14.6, 19.5, 14.1, 14.3,\n",
       "       15.6, 10.5,  6.3, 19.3, 19.3, 13.4, 36.4, 17.8, 13.5, 16.5,  8.3,\n",
       "       14.3, 16. , 13.4, 28.6, 43.5, 20.2, 22. , 23. , 20.7, 12.5, 48.5,\n",
       "       14.6, 13.4, 23.7, 50. , 21.7, 39.8, 38.7, 22.2, 34.9, 22.5, 31.1,\n",
       "       28.7, 46. , 41.7, 21. , 26.6, 15. , 24.4, 13.3, 21.2, 11.7, 21.7,\n",
       "       19.4, 50. , 22.8, 19.7, 24.7, 36.2, 14.2, 18.9, 18.3, 20.6, 24.6,\n",
       "       18.2,  8.7, 44. , 10.4, 13.2, 21.2, 37. , 30.7, 22.9, 20. , 19.3,\n",
       "       31.7, 32. , 23.1, 18.8, 10.9, 50. , 19.6,  5. , 14.4, 19.8, 13.8,\n",
       "       19.6, 23.9, 24.5, 25. , 19.9, 17.2, 24.6, 13.5, 26.6, 21.4, 11.9,\n",
       "       22.6, 19.6,  8.5, 23.7, 23.1, 22.4, 20.5, 23.6, 18.4, 35.2, 23.1,\n",
       "       27.9, 20.6, 23.7, 28. , 13.6, 27.1, 23.6, 20.6, 18.2, 21.7, 17.1,\n",
       "        8.4, 25.3, 13.8, 22.2, 18.4, 20.7, 31.6, 30.5, 20.3,  8.8, 19.2,\n",
       "       19.4, 23.1, 23. , 14.8, 48.8, 22.6, 33.4, 21.1, 13.6, 32.2, 13.1,\n",
       "       23.4, 18.9, 23.9, 11.8, 23.3, 22.8, 19.6, 16.7, 13.4, 22.2, 20.4,\n",
       "       21.8, 26.4, 14.9, 24.1, 23.8, 12.3, 29.1, 21. , 19.5, 23.3, 23.8,\n",
       "       17.8, 11.5, 21.7, 19.9, 25. , 33.4, 28.5, 21.4, 24.3, 27.5, 33.1,\n",
       "       16.2, 23.3, 48.3, 22.9, 22.8, 13.1, 12.7, 22.6, 15. , 15.3, 10.5,\n",
       "       24. , 18.5, 21.7, 19.5, 33.2, 23.2,  5. , 19.1, 12.7, 22.3, 10.2,\n",
       "       13.9, 16.3, 17. , 20.1, 29.9, 17.2, 37.3, 45.4, 17.8, 23.2, 29. ,\n",
       "       22. , 18. , 17.4, 34.6, 20.1, 25. , 15.6, 24.8, 28.2, 21.2, 21.4,\n",
       "       23.8, 31. , 26.2, 17.4, 37.9, 17.5, 20. ,  8.3, 23.9,  8.4, 13.8,\n",
       "        7.2, 11.7, 17.1, 21.6, 50. , 16.1, 20.4, 20.6, 21.4, 20.6, 36.5,\n",
       "        8.5, 24.8, 10.8, 21.9, 17.3, 18.9, 36.2, 14.9, 18.2, 33.3, 21.8,\n",
       "       19.7, 31.6, 24.8, 19.4, 22.8,  7.5, 44.8, 16.8, 18.7, 50. , 50. ,\n",
       "       19.5, 20.1, 50. , 17.2, 20.8, 19.3, 41.3, 20.4, 20.5, 13.8, 16.5,\n",
       "       23.9, 20.6, 31.5, 23.3, 16.8, 14. , 33.8, 36.1, 12.8, 18.3, 18.7,\n",
       "       19.1, 29. , 30.1, 50. , 50. , 22. , 11.9, 37.6, 50. , 22.7, 20.8,\n",
       "       23.5, 27.9, 50. , 19.3, 23.9, 22.6, 15.2, 21.7, 19.2, 43.8, 20.3,\n",
       "       33.2, 19.9, 22.5, 32.7, 22. , 17.1, 19. , 15. , 16.1, 25.1, 23.7,\n",
       "       28.7, 37.2, 22.6, 16.4, 25. , 29.8, 22.1, 17.4, 18.1, 30.3, 17.5,\n",
       "       24.7, 12.6, 26.5, 28.7, 13.3, 10.4, 24.4, 23. , 20. , 17.8,  7. ,\n",
       "       11.8, 24.4, 13.8, 19.4, 25.2, 19.4, 19.4, 29.1])"
      ]
     },
     "execution_count": 60,
     "metadata": {},
     "output_type": "execute_result"
    }
   ],
   "source": [
    "y_train"
   ]
  },
  {
   "cell_type": "code",
   "execution_count": 61,
   "metadata": {},
   "outputs": [
    {
     "data": {
      "text/plain": [
       "LinearRegression(copy_X=True, fit_intercept=True, n_jobs=None, normalize=False)"
      ]
     },
     "execution_count": 61,
     "metadata": {},
     "output_type": "execute_result"
    }
   ],
   "source": [
    "# establish baseline using linear model\n",
    "\n",
    "from sklearn.linear_model import LinearRegression\n",
    "\n",
    "model = LinearRegression()\n",
    "model.fit(X_train, y_train)"
   ]
  },
  {
   "cell_type": "code",
   "execution_count": 62,
   "metadata": {},
   "outputs": [
    {
     "data": {
      "text/plain": [
       "23.195599256422938"
      ]
     },
     "execution_count": 62,
     "metadata": {},
     "output_type": "execute_result"
    }
   ],
   "source": [
    "pred = model.predict(X_test)\n",
    "\n",
    "from sklearn.metrics import mean_absolute_error, mean_squared_error\n",
    "\n",
    "mean_squared_error(pred, y_test)"
   ]
  },
  {
   "cell_type": "code",
   "execution_count": 63,
   "metadata": {},
   "outputs": [
    {
     "name": "stdout",
     "output_type": "stream",
     "text": [
      "Model: \"boston_model\"\n",
      "_________________________________________________________________\n",
      "Layer (type)                 Output Shape              Param #   \n",
      "=================================================================\n",
      "dense_34 (Dense)             (None, 16)                224       \n",
      "_________________________________________________________________\n",
      "dense_35 (Dense)             (None, 16)                272       \n",
      "_________________________________________________________________\n",
      "dense_36 (Dense)             (None, 16)                272       \n",
      "_________________________________________________________________\n",
      "dense_37 (Dense)             (None, 8)                 136       \n",
      "_________________________________________________________________\n",
      "dense_38 (Dense)             (None, 1)                 9         \n",
      "=================================================================\n",
      "Total params: 913\n",
      "Trainable params: 913\n",
      "Non-trainable params: 0\n",
      "_________________________________________________________________\n"
     ]
    }
   ],
   "source": [
    "from tensorflow.keras.models import Sequential\n",
    "from tensorflow.keras.layers import Dense\n",
    "\n",
    "model = Sequential(name=\"boston_model\")\n",
    "model.add(Dense(16, input_shape=(X_train.shape[1],), activation=\"sigmoid\"))\n",
    "model.add(Dense(16, activation=\"sigmoid\"))\n",
    "model.add(Dense(16, activation=\"sigmoid\"))\n",
    "model.add(Dense(8, activation=\"sigmoid\"))\n",
    "model.add(Dense(1, activation=\"sigmoid\"))\n",
    "\n",
    "model.compile(loss='mean_squared_error', optimizer='sgd', metrics=[\"mean_squared_error\"])\n",
    "\n",
    "model.summary()"
   ]
  },
  {
   "cell_type": "code",
   "execution_count": 64,
   "metadata": {},
   "outputs": [
    {
     "name": "stdout",
     "output_type": "stream",
     "text": [
      "Train on 404 samples\n",
      "Epoch 1/100\n",
      "404/404 [==============================] - 0s 915us/sample - loss: 547.1585 - mean_squared_error: 547.1585\n",
      "Epoch 2/100\n",
      "404/404 [==============================] - 0s 65us/sample - loss: 543.5994 - mean_squared_error: 543.5994\n",
      "Epoch 3/100\n",
      "404/404 [==============================] - 0s 62us/sample - loss: 543.0461 - mean_squared_error: 543.0461\n",
      "Epoch 4/100\n",
      "404/404 [==============================] - 0s 57us/sample - loss: 542.8295 - mean_squared_error: 542.8295\n",
      "Epoch 5/100\n",
      "404/404 [==============================] - 0s 98us/sample - loss: 542.7146 - mean_squared_error: 542.7146\n",
      "Epoch 6/100\n",
      "404/404 [==============================] - 0s 60us/sample - loss: 542.6446 - mean_squared_error: 542.6446\n",
      "Epoch 7/100\n",
      "404/404 [==============================] - 0s 82us/sample - loss: 542.5975 - mean_squared_error: 542.5975\n",
      "Epoch 8/100\n",
      "404/404 [==============================] - 0s 112us/sample - loss: 542.5639 - mean_squared_error: 542.5639\n",
      "Epoch 9/100\n",
      "404/404 [==============================] - 0s 69us/sample - loss: 542.5386 - mean_squared_error: 542.5386\n",
      "Epoch 10/100\n",
      "404/404 [==============================] - 0s 54us/sample - loss: 542.5190 - mean_squared_error: 542.5189\n",
      "Epoch 11/100\n",
      "404/404 [==============================] - 0s 86us/sample - loss: 542.5034 - mean_squared_error: 542.5034\n",
      "Epoch 12/100\n",
      "404/404 [==============================] - 0s 71us/sample - loss: 542.4906 - mean_squared_error: 542.4907\n",
      "Epoch 13/100\n",
      "404/404 [==============================] - 0s 71us/sample - loss: 542.4800 - mean_squared_error: 542.4800\n",
      "Epoch 14/100\n",
      "404/404 [==============================] - 0s 78us/sample - loss: 542.4711 - mean_squared_error: 542.4711\n",
      "Epoch 15/100\n",
      "404/404 [==============================] - 0s 62us/sample - loss: 542.4634 - mean_squared_error: 542.4634\n",
      "Epoch 16/100\n",
      "404/404 [==============================] - 0s 91us/sample - loss: 542.4568 - mean_squared_error: 542.4568\n",
      "Epoch 17/100\n",
      "404/404 [==============================] - 0s 52us/sample - loss: 542.4511 - mean_squared_error: 542.4510\n",
      "Epoch 18/100\n",
      "404/404 [==============================] - 0s 59us/sample - loss: 542.4460 - mean_squared_error: 542.4460\n",
      "Epoch 19/100\n",
      "404/404 [==============================] - 0s 68us/sample - loss: 542.4416 - mean_squared_error: 542.4416\n",
      "Epoch 20/100\n",
      "404/404 [==============================] - 0s 78us/sample - loss: 542.4376 - mean_squared_error: 542.4376\n",
      "Epoch 21/100\n",
      "404/404 [==============================] - 0s 72us/sample - loss: 542.4340 - mean_squared_error: 542.4340\n",
      "Epoch 22/100\n",
      "404/404 [==============================] - 0s 66us/sample - loss: 542.4307 - mean_squared_error: 542.4307\n",
      "Epoch 23/100\n",
      "404/404 [==============================] - 0s 70us/sample - loss: 542.4278 - mean_squared_error: 542.4278\n",
      "Epoch 24/100\n",
      "404/404 [==============================] - 0s 74us/sample - loss: 542.4251 - mean_squared_error: 542.4252\n",
      "Epoch 25/100\n",
      "404/404 [==============================] - 0s 73us/sample - loss: 542.4227 - mean_squared_error: 542.4227\n",
      "Epoch 26/100\n",
      "404/404 [==============================] - 0s 56us/sample - loss: 542.4205 - mean_squared_error: 542.4205\n",
      "Epoch 27/100\n",
      "404/404 [==============================] - 0s 73us/sample - loss: 542.4184 - mean_squared_error: 542.4185\n",
      "Epoch 28/100\n",
      "404/404 [==============================] - 0s 72us/sample - loss: 542.4165 - mean_squared_error: 542.4166\n",
      "Epoch 29/100\n",
      "404/404 [==============================] - 0s 59us/sample - loss: 542.4148 - mean_squared_error: 542.4147\n",
      "Epoch 30/100\n",
      "404/404 [==============================] - 0s 94us/sample - loss: 542.4132 - mean_squared_error: 542.4132\n",
      "Epoch 31/100\n",
      "404/404 [==============================] - 0s 85us/sample - loss: 542.4116 - mean_squared_error: 542.4117\n",
      "Epoch 32/100\n",
      "404/404 [==============================] - 0s 99us/sample - loss: 542.4102 - mean_squared_error: 542.4102\n",
      "Epoch 33/100\n",
      "404/404 [==============================] - 0s 89us/sample - loss: 542.4089 - mean_squared_error: 542.4089\n",
      "Epoch 34/100\n",
      "404/404 [==============================] - 0s 95us/sample - loss: 542.4077 - mean_squared_error: 542.4077\n",
      "Epoch 35/100\n",
      "404/404 [==============================] - 0s 101us/sample - loss: 542.4065 - mean_squared_error: 542.4065\n",
      "Epoch 36/100\n",
      "404/404 [==============================] - 0s 131us/sample - loss: 542.4054 - mean_squared_error: 542.4055\n",
      "Epoch 37/100\n",
      "404/404 [==============================] - 0s 94us/sample - loss: 542.4043 - mean_squared_error: 542.4043\n",
      "Epoch 38/100\n",
      "404/404 [==============================] - 0s 94us/sample - loss: 542.4034 - mean_squared_error: 542.4033\n",
      "Epoch 39/100\n",
      "404/404 [==============================] - 0s 97us/sample - loss: 542.4024 - mean_squared_error: 542.4024\n",
      "Epoch 40/100\n",
      "404/404 [==============================] - 0s 109us/sample - loss: 542.4016 - mean_squared_error: 542.4016\n",
      "Epoch 41/100\n",
      "404/404 [==============================] - 0s 94us/sample - loss: 542.4007 - mean_squared_error: 542.4007\n",
      "Epoch 42/100\n",
      "404/404 [==============================] - 0s 102us/sample - loss: 542.3999 - mean_squared_error: 542.4000\n",
      "Epoch 43/100\n",
      "404/404 [==============================] - 0s 109us/sample - loss: 542.3992 - mean_squared_error: 542.3992\n",
      "Epoch 44/100\n",
      "404/404 [==============================] - 0s 91us/sample - loss: 542.3985 - mean_squared_error: 542.3985\n",
      "Epoch 45/100\n",
      "404/404 [==============================] - 0s 105us/sample - loss: 542.3978 - mean_squared_error: 542.3978\n",
      "Epoch 46/100\n",
      "404/404 [==============================] - 0s 81us/sample - loss: 542.3972 - mean_squared_error: 542.3972\n",
      "Epoch 47/100\n",
      "404/404 [==============================] - 0s 95us/sample - loss: 542.3965 - mean_squared_error: 542.3966\n",
      "Epoch 48/100\n",
      "404/404 [==============================] - 0s 69us/sample - loss: 542.3960 - mean_squared_error: 542.3959\n",
      "Epoch 49/100\n",
      "404/404 [==============================] - 0s 88us/sample - loss: 542.3954 - mean_squared_error: 542.3954\n",
      "Epoch 50/100\n",
      "404/404 [==============================] - 0s 82us/sample - loss: 542.3948 - mean_squared_error: 542.3949\n",
      "Epoch 51/100\n",
      "404/404 [==============================] - 0s 106us/sample - loss: 542.3943 - mean_squared_error: 542.3943\n",
      "Epoch 52/100\n",
      "404/404 [==============================] - 0s 87us/sample - loss: 542.3938 - mean_squared_error: 542.3938\n",
      "Epoch 53/100\n",
      "404/404 [==============================] - 0s 90us/sample - loss: 542.3933 - mean_squared_error: 542.3934\n",
      "Epoch 54/100\n",
      "404/404 [==============================] - 0s 87us/sample - loss: 542.3929 - mean_squared_error: 542.3929\n",
      "Epoch 55/100\n",
      "404/404 [==============================] - 0s 78us/sample - loss: 542.3924 - mean_squared_error: 542.3924\n",
      "Epoch 56/100\n",
      "404/404 [==============================] - 0s 62us/sample - loss: 542.3920 - mean_squared_error: 542.3920\n",
      "Epoch 57/100\n",
      "404/404 [==============================] - 0s 88us/sample - loss: 542.3916 - mean_squared_error: 542.3915\n",
      "Epoch 58/100\n",
      "404/404 [==============================] - 0s 105us/sample - loss: 542.3912 - mean_squared_error: 542.3912\n",
      "Epoch 59/100\n",
      "404/404 [==============================] - 0s 89us/sample - loss: 542.3908 - mean_squared_error: 542.3908\n",
      "Epoch 60/100\n",
      "404/404 [==============================] - 0s 81us/sample - loss: 542.3905 - mean_squared_error: 542.3904\n",
      "Epoch 61/100\n",
      "404/404 [==============================] - 0s 80us/sample - loss: 542.3901 - mean_squared_error: 542.3901\n",
      "Epoch 62/100\n",
      "404/404 [==============================] - 0s 67us/sample - loss: 542.3897 - mean_squared_error: 542.3898\n",
      "Epoch 63/100\n",
      "404/404 [==============================] - 0s 71us/sample - loss: 542.3894 - mean_squared_error: 542.3894\n",
      "Epoch 64/100\n",
      "404/404 [==============================] - 0s 93us/sample - loss: 542.3891 - mean_squared_error: 542.3891\n",
      "Epoch 65/100\n",
      "404/404 [==============================] - 0s 62us/sample - loss: 542.3888 - mean_squared_error: 542.3888\n",
      "Epoch 66/100\n",
      "404/404 [==============================] - 0s 67us/sample - loss: 542.3885 - mean_squared_error: 542.3885\n",
      "Epoch 67/100\n",
      "404/404 [==============================] - 0s 58us/sample - loss: 542.3882 - mean_squared_error: 542.3882\n",
      "Epoch 68/100\n",
      "404/404 [==============================] - 0s 72us/sample - loss: 542.3879 - mean_squared_error: 542.3879\n",
      "Epoch 69/100\n",
      "404/404 [==============================] - 0s 78us/sample - loss: 542.3877 - mean_squared_error: 542.3876\n",
      "Epoch 70/100\n",
      "404/404 [==============================] - 0s 97us/sample - loss: 542.3874 - mean_squared_error: 542.3874\n",
      "Epoch 71/100\n",
      "404/404 [==============================] - 0s 90us/sample - loss: 542.3871 - mean_squared_error: 542.3871\n",
      "Epoch 72/100\n",
      "404/404 [==============================] - 0s 117us/sample - loss: 542.3869 - mean_squared_error: 542.3869\n",
      "Epoch 73/100\n",
      "404/404 [==============================] - 0s 82us/sample - loss: 542.3866 - mean_squared_error: 542.3867\n",
      "Epoch 74/100\n",
      "404/404 [==============================] - 0s 80us/sample - loss: 542.3864 - mean_squared_error: 542.3864\n",
      "Epoch 75/100\n",
      "404/404 [==============================] - 0s 94us/sample - loss: 542.3862 - mean_squared_error: 542.3861\n",
      "Epoch 76/100\n",
      "404/404 [==============================] - 0s 76us/sample - loss: 542.3859 - mean_squared_error: 542.3859\n",
      "Epoch 77/100\n",
      "404/404 [==============================] - 0s 102us/sample - loss: 542.3857 - mean_squared_error: 542.3857\n",
      "Epoch 78/100\n",
      "404/404 [==============================] - 0s 100us/sample - loss: 542.3855 - mean_squared_error: 542.3855\n",
      "Epoch 79/100\n",
      "404/404 [==============================] - 0s 91us/sample - loss: 542.3853 - mean_squared_error: 542.3853\n",
      "Epoch 80/100\n",
      "404/404 [==============================] - 0s 84us/sample - loss: 542.3851 - mean_squared_error: 542.3851\n",
      "Epoch 81/100\n",
      "404/404 [==============================] - 0s 102us/sample - loss: 542.3849 - mean_squared_error: 542.3849\n",
      "Epoch 82/100\n",
      "404/404 [==============================] - 0s 71us/sample - loss: 542.3847 - mean_squared_error: 542.3848\n",
      "Epoch 83/100\n",
      "404/404 [==============================] - 0s 77us/sample - loss: 542.3845 - mean_squared_error: 542.3845\n",
      "Epoch 84/100\n",
      "404/404 [==============================] - 0s 78us/sample - loss: 542.3844 - mean_squared_error: 542.3843\n",
      "Epoch 85/100\n",
      "404/404 [==============================] - 0s 76us/sample - loss: 542.3842 - mean_squared_error: 542.3842\n",
      "Epoch 86/100\n",
      "404/404 [==============================] - 0s 64us/sample - loss: 542.3840 - mean_squared_error: 542.3840\n",
      "Epoch 87/100\n",
      "404/404 [==============================] - 0s 92us/sample - loss: 542.3838 - mean_squared_error: 542.3839\n",
      "Epoch 88/100\n",
      "404/404 [==============================] - 0s 84us/sample - loss: 542.3837 - mean_squared_error: 542.3837\n",
      "Epoch 89/100\n",
      "404/404 [==============================] - 0s 76us/sample - loss: 542.3835 - mean_squared_error: 542.3835\n",
      "Epoch 90/100\n",
      "404/404 [==============================] - 0s 73us/sample - loss: 542.3834 - mean_squared_error: 542.3834\n",
      "Epoch 91/100\n",
      "404/404 [==============================] - 0s 78us/sample - loss: 542.3832 - mean_squared_error: 542.3832\n",
      "Epoch 92/100\n",
      "404/404 [==============================] - 0s 59us/sample - loss: 542.3831 - mean_squared_error: 542.3831\n",
      "Epoch 93/100\n",
      "404/404 [==============================] - 0s 68us/sample - loss: 542.3829 - mean_squared_error: 542.3829\n",
      "Epoch 94/100\n",
      "404/404 [==============================] - 0s 68us/sample - loss: 542.3828 - mean_squared_error: 542.3828\n",
      "Epoch 95/100\n",
      "404/404 [==============================] - 0s 95us/sample - loss: 542.3826 - mean_squared_error: 542.3826\n",
      "Epoch 96/100\n",
      "404/404 [==============================] - 0s 74us/sample - loss: 542.3825 - mean_squared_error: 542.3825\n",
      "Epoch 97/100\n",
      "404/404 [==============================] - 0s 85us/sample - loss: 542.3824 - mean_squared_error: 542.3824\n",
      "Epoch 98/100\n",
      "404/404 [==============================] - 0s 101us/sample - loss: 542.3822 - mean_squared_error: 542.3822\n",
      "Epoch 99/100\n",
      "404/404 [==============================] - 0s 62us/sample - loss: 542.3821 - mean_squared_error: 542.3821\n",
      "Epoch 100/100\n",
      "404/404 [==============================] - 0s 93us/sample - loss: 542.3820 - mean_squared_error: 542.3820\n"
     ]
    }
   ],
   "source": [
    "hist = model.fit(X_train, y_train, batch_size=32, epochs=100)"
   ]
  },
  {
   "cell_type": "code",
   "execution_count": 65,
   "metadata": {},
   "outputs": [
    {
     "data": {
      "application/vnd.plotly.v1+json": {
       "config": {
        "plotlyServerURL": "https://plot.ly"
       },
       "data": [
        {
         "mode": "markers",
         "type": "scatter",
         "x": [
          0,
          1,
          2,
          3,
          4,
          5,
          6,
          7,
          8,
          9,
          10,
          11,
          12,
          13,
          14,
          15,
          16,
          17,
          18,
          19,
          20,
          21,
          22,
          23,
          24,
          25,
          26,
          27,
          28,
          29,
          30,
          31,
          32,
          33,
          34,
          35,
          36,
          37,
          38,
          39,
          40,
          41,
          42,
          43,
          44,
          45,
          46,
          47,
          48,
          49,
          50,
          51,
          52,
          53,
          54,
          55,
          56,
          57,
          58,
          59,
          60,
          61,
          62,
          63,
          64,
          65,
          66,
          67,
          68,
          69,
          70,
          71,
          72,
          73,
          74,
          75,
          76,
          77,
          78,
          79,
          80,
          81,
          82,
          83,
          84,
          85,
          86,
          87,
          88,
          89,
          90,
          91,
          92,
          93,
          94,
          95,
          96,
          97,
          98,
          99
         ],
         "y": [
          547.1585083007812,
          543.5994262695312,
          543.0460815429688,
          542.8295288085938,
          542.714599609375,
          542.6445922851562,
          542.5974731445312,
          542.5639038085938,
          542.5386352539062,
          542.5189208984375,
          542.50341796875,
          542.4906616210938,
          542.47998046875,
          542.4710693359375,
          542.46337890625,
          542.456787109375,
          542.4510498046875,
          542.4459838867188,
          542.4415893554688,
          542.4376220703125,
          542.4339599609375,
          542.4306640625,
          542.4277954101562,
          542.4251708984375,
          542.4226684570312,
          542.4204711914062,
          542.41845703125,
          542.4165649414062,
          542.4147338867188,
          542.4132080078125,
          542.4116821289062,
          542.41015625,
          542.408935546875,
          542.4076538085938,
          542.406494140625,
          542.4054565429688,
          542.404296875,
          542.4033203125,
          542.4024047851562,
          542.4015502929688,
          542.4006958007812,
          542.3999633789062,
          542.399169921875,
          542.3984985351562,
          542.3978271484375,
          542.3971557617188,
          542.3966064453125,
          542.3959350585938,
          542.3953857421875,
          542.3948974609375,
          542.394287109375,
          542.393798828125,
          542.3933715820312,
          542.3928833007812,
          542.3923950195312,
          542.3920288085938,
          542.3915405273438,
          542.3911743164062,
          542.3908081054688,
          542.3904418945312,
          542.3900756835938,
          542.3897705078125,
          542.389404296875,
          542.3890991210938,
          542.3887939453125,
          542.3884887695312,
          542.38818359375,
          542.387939453125,
          542.3876342773438,
          542.3873901367188,
          542.3871459960938,
          542.3869018554688,
          542.3866577148438,
          542.3863525390625,
          542.3861083984375,
          542.3859252929688,
          542.3857421875,
          542.385498046875,
          542.3853149414062,
          542.3851318359375,
          542.3848876953125,
          542.384765625,
          542.384521484375,
          542.3843383789062,
          542.3841552734375,
          542.384033203125,
          542.3838500976562,
          542.3837280273438,
          542.3834838867188,
          542.3833618164062,
          542.3831787109375,
          542.383056640625,
          542.3828735351562,
          542.3827514648438,
          542.3826293945312,
          542.3825073242188,
          542.3823852539062,
          542.3822021484375,
          542.3821411132812,
          542.3819580078125
         ]
        }
       ],
       "layout": {
        "autosize": true,
        "template": {
         "data": {
          "bar": [
           {
            "error_x": {
             "color": "#2a3f5f"
            },
            "error_y": {
             "color": "#2a3f5f"
            },
            "marker": {
             "line": {
              "color": "#E5ECF6",
              "width": 0.5
             }
            },
            "type": "bar"
           }
          ],
          "barpolar": [
           {
            "marker": {
             "line": {
              "color": "#E5ECF6",
              "width": 0.5
             }
            },
            "type": "barpolar"
           }
          ],
          "carpet": [
           {
            "aaxis": {
             "endlinecolor": "#2a3f5f",
             "gridcolor": "white",
             "linecolor": "white",
             "minorgridcolor": "white",
             "startlinecolor": "#2a3f5f"
            },
            "baxis": {
             "endlinecolor": "#2a3f5f",
             "gridcolor": "white",
             "linecolor": "white",
             "minorgridcolor": "white",
             "startlinecolor": "#2a3f5f"
            },
            "type": "carpet"
           }
          ],
          "choropleth": [
           {
            "colorbar": {
             "outlinewidth": 0,
             "ticks": ""
            },
            "type": "choropleth"
           }
          ],
          "contour": [
           {
            "colorbar": {
             "outlinewidth": 0,
             "ticks": ""
            },
            "colorscale": [
             [
              0,
              "#0d0887"
             ],
             [
              0.1111111111111111,
              "#46039f"
             ],
             [
              0.2222222222222222,
              "#7201a8"
             ],
             [
              0.3333333333333333,
              "#9c179e"
             ],
             [
              0.4444444444444444,
              "#bd3786"
             ],
             [
              0.5555555555555556,
              "#d8576b"
             ],
             [
              0.6666666666666666,
              "#ed7953"
             ],
             [
              0.7777777777777778,
              "#fb9f3a"
             ],
             [
              0.8888888888888888,
              "#fdca26"
             ],
             [
              1,
              "#f0f921"
             ]
            ],
            "type": "contour"
           }
          ],
          "contourcarpet": [
           {
            "colorbar": {
             "outlinewidth": 0,
             "ticks": ""
            },
            "type": "contourcarpet"
           }
          ],
          "heatmap": [
           {
            "colorbar": {
             "outlinewidth": 0,
             "ticks": ""
            },
            "colorscale": [
             [
              0,
              "#0d0887"
             ],
             [
              0.1111111111111111,
              "#46039f"
             ],
             [
              0.2222222222222222,
              "#7201a8"
             ],
             [
              0.3333333333333333,
              "#9c179e"
             ],
             [
              0.4444444444444444,
              "#bd3786"
             ],
             [
              0.5555555555555556,
              "#d8576b"
             ],
             [
              0.6666666666666666,
              "#ed7953"
             ],
             [
              0.7777777777777778,
              "#fb9f3a"
             ],
             [
              0.8888888888888888,
              "#fdca26"
             ],
             [
              1,
              "#f0f921"
             ]
            ],
            "type": "heatmap"
           }
          ],
          "heatmapgl": [
           {
            "colorbar": {
             "outlinewidth": 0,
             "ticks": ""
            },
            "colorscale": [
             [
              0,
              "#0d0887"
             ],
             [
              0.1111111111111111,
              "#46039f"
             ],
             [
              0.2222222222222222,
              "#7201a8"
             ],
             [
              0.3333333333333333,
              "#9c179e"
             ],
             [
              0.4444444444444444,
              "#bd3786"
             ],
             [
              0.5555555555555556,
              "#d8576b"
             ],
             [
              0.6666666666666666,
              "#ed7953"
             ],
             [
              0.7777777777777778,
              "#fb9f3a"
             ],
             [
              0.8888888888888888,
              "#fdca26"
             ],
             [
              1,
              "#f0f921"
             ]
            ],
            "type": "heatmapgl"
           }
          ],
          "histogram": [
           {
            "marker": {
             "colorbar": {
              "outlinewidth": 0,
              "ticks": ""
             }
            },
            "type": "histogram"
           }
          ],
          "histogram2d": [
           {
            "colorbar": {
             "outlinewidth": 0,
             "ticks": ""
            },
            "colorscale": [
             [
              0,
              "#0d0887"
             ],
             [
              0.1111111111111111,
              "#46039f"
             ],
             [
              0.2222222222222222,
              "#7201a8"
             ],
             [
              0.3333333333333333,
              "#9c179e"
             ],
             [
              0.4444444444444444,
              "#bd3786"
             ],
             [
              0.5555555555555556,
              "#d8576b"
             ],
             [
              0.6666666666666666,
              "#ed7953"
             ],
             [
              0.7777777777777778,
              "#fb9f3a"
             ],
             [
              0.8888888888888888,
              "#fdca26"
             ],
             [
              1,
              "#f0f921"
             ]
            ],
            "type": "histogram2d"
           }
          ],
          "histogram2dcontour": [
           {
            "colorbar": {
             "outlinewidth": 0,
             "ticks": ""
            },
            "colorscale": [
             [
              0,
              "#0d0887"
             ],
             [
              0.1111111111111111,
              "#46039f"
             ],
             [
              0.2222222222222222,
              "#7201a8"
             ],
             [
              0.3333333333333333,
              "#9c179e"
             ],
             [
              0.4444444444444444,
              "#bd3786"
             ],
             [
              0.5555555555555556,
              "#d8576b"
             ],
             [
              0.6666666666666666,
              "#ed7953"
             ],
             [
              0.7777777777777778,
              "#fb9f3a"
             ],
             [
              0.8888888888888888,
              "#fdca26"
             ],
             [
              1,
              "#f0f921"
             ]
            ],
            "type": "histogram2dcontour"
           }
          ],
          "mesh3d": [
           {
            "colorbar": {
             "outlinewidth": 0,
             "ticks": ""
            },
            "type": "mesh3d"
           }
          ],
          "parcoords": [
           {
            "line": {
             "colorbar": {
              "outlinewidth": 0,
              "ticks": ""
             }
            },
            "type": "parcoords"
           }
          ],
          "pie": [
           {
            "automargin": true,
            "type": "pie"
           }
          ],
          "scatter": [
           {
            "marker": {
             "colorbar": {
              "outlinewidth": 0,
              "ticks": ""
             }
            },
            "type": "scatter"
           }
          ],
          "scatter3d": [
           {
            "line": {
             "colorbar": {
              "outlinewidth": 0,
              "ticks": ""
             }
            },
            "marker": {
             "colorbar": {
              "outlinewidth": 0,
              "ticks": ""
             }
            },
            "type": "scatter3d"
           }
          ],
          "scattercarpet": [
           {
            "marker": {
             "colorbar": {
              "outlinewidth": 0,
              "ticks": ""
             }
            },
            "type": "scattercarpet"
           }
          ],
          "scattergeo": [
           {
            "marker": {
             "colorbar": {
              "outlinewidth": 0,
              "ticks": ""
             }
            },
            "type": "scattergeo"
           }
          ],
          "scattergl": [
           {
            "marker": {
             "colorbar": {
              "outlinewidth": 0,
              "ticks": ""
             }
            },
            "type": "scattergl"
           }
          ],
          "scattermapbox": [
           {
            "marker": {
             "colorbar": {
              "outlinewidth": 0,
              "ticks": ""
             }
            },
            "type": "scattermapbox"
           }
          ],
          "scatterpolar": [
           {
            "marker": {
             "colorbar": {
              "outlinewidth": 0,
              "ticks": ""
             }
            },
            "type": "scatterpolar"
           }
          ],
          "scatterpolargl": [
           {
            "marker": {
             "colorbar": {
              "outlinewidth": 0,
              "ticks": ""
             }
            },
            "type": "scatterpolargl"
           }
          ],
          "scatterternary": [
           {
            "marker": {
             "colorbar": {
              "outlinewidth": 0,
              "ticks": ""
             }
            },
            "type": "scatterternary"
           }
          ],
          "surface": [
           {
            "colorbar": {
             "outlinewidth": 0,
             "ticks": ""
            },
            "colorscale": [
             [
              0,
              "#0d0887"
             ],
             [
              0.1111111111111111,
              "#46039f"
             ],
             [
              0.2222222222222222,
              "#7201a8"
             ],
             [
              0.3333333333333333,
              "#9c179e"
             ],
             [
              0.4444444444444444,
              "#bd3786"
             ],
             [
              0.5555555555555556,
              "#d8576b"
             ],
             [
              0.6666666666666666,
              "#ed7953"
             ],
             [
              0.7777777777777778,
              "#fb9f3a"
             ],
             [
              0.8888888888888888,
              "#fdca26"
             ],
             [
              1,
              "#f0f921"
             ]
            ],
            "type": "surface"
           }
          ],
          "table": [
           {
            "cells": {
             "fill": {
              "color": "#EBF0F8"
             },
             "line": {
              "color": "white"
             }
            },
            "header": {
             "fill": {
              "color": "#C8D4E3"
             },
             "line": {
              "color": "white"
             }
            },
            "type": "table"
           }
          ]
         },
         "layout": {
          "annotationdefaults": {
           "arrowcolor": "#2a3f5f",
           "arrowhead": 0,
           "arrowwidth": 1
          },
          "coloraxis": {
           "colorbar": {
            "outlinewidth": 0,
            "ticks": ""
           }
          },
          "colorscale": {
           "diverging": [
            [
             0,
             "#8e0152"
            ],
            [
             0.1,
             "#c51b7d"
            ],
            [
             0.2,
             "#de77ae"
            ],
            [
             0.3,
             "#f1b6da"
            ],
            [
             0.4,
             "#fde0ef"
            ],
            [
             0.5,
             "#f7f7f7"
            ],
            [
             0.6,
             "#e6f5d0"
            ],
            [
             0.7,
             "#b8e186"
            ],
            [
             0.8,
             "#7fbc41"
            ],
            [
             0.9,
             "#4d9221"
            ],
            [
             1,
             "#276419"
            ]
           ],
           "sequential": [
            [
             0,
             "#0d0887"
            ],
            [
             0.1111111111111111,
             "#46039f"
            ],
            [
             0.2222222222222222,
             "#7201a8"
            ],
            [
             0.3333333333333333,
             "#9c179e"
            ],
            [
             0.4444444444444444,
             "#bd3786"
            ],
            [
             0.5555555555555556,
             "#d8576b"
            ],
            [
             0.6666666666666666,
             "#ed7953"
            ],
            [
             0.7777777777777778,
             "#fb9f3a"
            ],
            [
             0.8888888888888888,
             "#fdca26"
            ],
            [
             1,
             "#f0f921"
            ]
           ],
           "sequentialminus": [
            [
             0,
             "#0d0887"
            ],
            [
             0.1111111111111111,
             "#46039f"
            ],
            [
             0.2222222222222222,
             "#7201a8"
            ],
            [
             0.3333333333333333,
             "#9c179e"
            ],
            [
             0.4444444444444444,
             "#bd3786"
            ],
            [
             0.5555555555555556,
             "#d8576b"
            ],
            [
             0.6666666666666666,
             "#ed7953"
            ],
            [
             0.7777777777777778,
             "#fb9f3a"
            ],
            [
             0.8888888888888888,
             "#fdca26"
            ],
            [
             1,
             "#f0f921"
            ]
           ]
          },
          "colorway": [
           "#636efa",
           "#EF553B",
           "#00cc96",
           "#ab63fa",
           "#FFA15A",
           "#19d3f3",
           "#FF6692",
           "#B6E880",
           "#FF97FF",
           "#FECB52"
          ],
          "font": {
           "color": "#2a3f5f"
          },
          "geo": {
           "bgcolor": "white",
           "lakecolor": "white",
           "landcolor": "#E5ECF6",
           "showlakes": true,
           "showland": true,
           "subunitcolor": "white"
          },
          "hoverlabel": {
           "align": "left"
          },
          "hovermode": "closest",
          "mapbox": {
           "style": "light"
          },
          "paper_bgcolor": "white",
          "plot_bgcolor": "#E5ECF6",
          "polar": {
           "angularaxis": {
            "gridcolor": "white",
            "linecolor": "white",
            "ticks": ""
           },
           "bgcolor": "#E5ECF6",
           "radialaxis": {
            "gridcolor": "white",
            "linecolor": "white",
            "ticks": ""
           }
          },
          "scene": {
           "xaxis": {
            "backgroundcolor": "#E5ECF6",
            "gridcolor": "white",
            "gridwidth": 2,
            "linecolor": "white",
            "showbackground": true,
            "ticks": "",
            "zerolinecolor": "white"
           },
           "yaxis": {
            "backgroundcolor": "#E5ECF6",
            "gridcolor": "white",
            "gridwidth": 2,
            "linecolor": "white",
            "showbackground": true,
            "ticks": "",
            "zerolinecolor": "white"
           },
           "zaxis": {
            "backgroundcolor": "#E5ECF6",
            "gridcolor": "white",
            "gridwidth": 2,
            "linecolor": "white",
            "showbackground": true,
            "ticks": "",
            "zerolinecolor": "white"
           }
          },
          "shapedefaults": {
           "line": {
            "color": "#2a3f5f"
           }
          },
          "ternary": {
           "aaxis": {
            "gridcolor": "white",
            "linecolor": "white",
            "ticks": ""
           },
           "baxis": {
            "gridcolor": "white",
            "linecolor": "white",
            "ticks": ""
           },
           "bgcolor": "#E5ECF6",
           "caxis": {
            "gridcolor": "white",
            "linecolor": "white",
            "ticks": ""
           }
          },
          "title": {
           "x": 0.05
          },
          "xaxis": {
           "automargin": true,
           "gridcolor": "white",
           "linecolor": "white",
           "ticks": "",
           "title": {
            "standoff": 15
           },
           "zerolinecolor": "white",
           "zerolinewidth": 2
          },
          "yaxis": {
           "automargin": true,
           "gridcolor": "white",
           "linecolor": "white",
           "ticks": "",
           "title": {
            "standoff": 15
           },
           "zerolinecolor": "white",
           "zerolinewidth": 2
          }
         }
        },
        "title": {
         "text": "Mean Squared Error by Epoch"
        },
        "xaxis": {
         "autorange": true,
         "range": [
          -5.882050569602669,
          104.88205056960267
         ],
         "type": "linear"
        },
        "yaxis": {
         "autorange": true,
         "range": [
          542.0320833048244,
          547.5083830037694
         ],
         "type": "linear"
        }
       }
      },
      "image/png": "[encoded data removed]",
      "text/html": [
       "<div>\n",
       "        \n",
       "        \n",
       "            <div id=\"fbad4b8f-7cde-47c2-a615-ac32737f9755\" class=\"plotly-graph-div\" style=\"height:525px; width:100%;\"></div>\n",
       "            <script type=\"text/javascript\">\n",
       "                require([\"plotly\"], function(Plotly) {\n",
       "                    window.PLOTLYENV=window.PLOTLYENV || {};\n",
       "                    \n",
       "                if (document.getElementById(\"fbad4b8f-7cde-47c2-a615-ac32737f9755\")) {\n",
       "                    Plotly.newPlot(\n",
       "                        'fbad4b8f-7cde-47c2-a615-ac32737f9755',\n",
       "                        [{\"mode\": \"markers\", \"type\": \"scatter\", \"x\": [0, 1, 2, 3, 4, 5, 6, 7, 8, 9, 10, 11, 12, 13, 14, 15, 16, 17, 18, 19, 20, 21, 22, 23, 24, 25, 26, 27, 28, 29, 30, 31, 32, 33, 34, 35, 36, 37, 38, 39, 40, 41, 42, 43, 44, 45, 46, 47, 48, 49, 50, 51, 52, 53, 54, 55, 56, 57, 58, 59, 60, 61, 62, 63, 64, 65, 66, 67, 68, 69, 70, 71, 72, 73, 74, 75, 76, 77, 78, 79, 80, 81, 82, 83, 84, 85, 86, 87, 88, 89, 90, 91, 92, 93, 94, 95, 96, 97, 98, 99], \"y\": [547.1585083007812, 543.5994262695312, 543.0460815429688, 542.8295288085938, 542.714599609375, 542.6445922851562, 542.5974731445312, 542.5639038085938, 542.5386352539062, 542.5189208984375, 542.50341796875, 542.4906616210938, 542.47998046875, 542.4710693359375, 542.46337890625, 542.456787109375, 542.4510498046875, 542.4459838867188, 542.4415893554688, 542.4376220703125, 542.4339599609375, 542.4306640625, 542.4277954101562, 542.4251708984375, 542.4226684570312, 542.4204711914062, 542.41845703125, 542.4165649414062, 542.4147338867188, 542.4132080078125, 542.4116821289062, 542.41015625, 542.408935546875, 542.4076538085938, 542.406494140625, 542.4054565429688, 542.404296875, 542.4033203125, 542.4024047851562, 542.4015502929688, 542.4006958007812, 542.3999633789062, 542.399169921875, 542.3984985351562, 542.3978271484375, 542.3971557617188, 542.3966064453125, 542.3959350585938, 542.3953857421875, 542.3948974609375, 542.394287109375, 542.393798828125, 542.3933715820312, 542.3928833007812, 542.3923950195312, 542.3920288085938, 542.3915405273438, 542.3911743164062, 542.3908081054688, 542.3904418945312, 542.3900756835938, 542.3897705078125, 542.389404296875, 542.3890991210938, 542.3887939453125, 542.3884887695312, 542.38818359375, 542.387939453125, 542.3876342773438, 542.3873901367188, 542.3871459960938, 542.3869018554688, 542.3866577148438, 542.3863525390625, 542.3861083984375, 542.3859252929688, 542.3857421875, 542.385498046875, 542.3853149414062, 542.3851318359375, 542.3848876953125, 542.384765625, 542.384521484375, 542.3843383789062, 542.3841552734375, 542.384033203125, 542.3838500976562, 542.3837280273438, 542.3834838867188, 542.3833618164062, 542.3831787109375, 542.383056640625, 542.3828735351562, 542.3827514648438, 542.3826293945312, 542.3825073242188, 542.3823852539062, 542.3822021484375, 542.3821411132812, 542.3819580078125]}],\n",
       "                        {\"template\": {\"data\": {\"bar\": [{\"error_x\": {\"color\": \"#2a3f5f\"}, \"error_y\": {\"color\": \"#2a3f5f\"}, \"marker\": {\"line\": {\"color\": \"#E5ECF6\", \"width\": 0.5}}, \"type\": \"bar\"}], \"barpolar\": [{\"marker\": {\"line\": {\"color\": \"#E5ECF6\", \"width\": 0.5}}, \"type\": \"barpolar\"}], \"carpet\": [{\"aaxis\": {\"endlinecolor\": \"#2a3f5f\", \"gridcolor\": \"white\", \"linecolor\": \"white\", \"minorgridcolor\": \"white\", \"startlinecolor\": \"#2a3f5f\"}, \"baxis\": {\"endlinecolor\": \"#2a3f5f\", \"gridcolor\": \"white\", \"linecolor\": \"white\", \"minorgridcolor\": \"white\", \"startlinecolor\": \"#2a3f5f\"}, \"type\": \"carpet\"}], \"choropleth\": [{\"colorbar\": {\"outlinewidth\": 0, \"ticks\": \"\"}, \"type\": \"choropleth\"}], \"contour\": [{\"colorbar\": {\"outlinewidth\": 0, \"ticks\": \"\"}, \"colorscale\": [[0.0, \"#0d0887\"], [0.1111111111111111, \"#46039f\"], [0.2222222222222222, \"#7201a8\"], [0.3333333333333333, \"#9c179e\"], [0.4444444444444444, \"#bd3786\"], [0.5555555555555556, \"#d8576b\"], [0.6666666666666666, \"#ed7953\"], [0.7777777777777778, \"#fb9f3a\"], [0.8888888888888888, \"#fdca26\"], [1.0, \"#f0f921\"]], \"type\": \"contour\"}], \"contourcarpet\": [{\"colorbar\": {\"outlinewidth\": 0, \"ticks\": \"\"}, \"type\": \"contourcarpet\"}], \"heatmap\": [{\"colorbar\": {\"outlinewidth\": 0, \"ticks\": \"\"}, \"colorscale\": [[0.0, \"#0d0887\"], [0.1111111111111111, \"#46039f\"], [0.2222222222222222, \"#7201a8\"], [0.3333333333333333, \"#9c179e\"], [0.4444444444444444, \"#bd3786\"], [0.5555555555555556, \"#d8576b\"], [0.6666666666666666, \"#ed7953\"], [0.7777777777777778, \"#fb9f3a\"], [0.8888888888888888, \"#fdca26\"], [1.0, \"#f0f921\"]], \"type\": \"heatmap\"}], \"heatmapgl\": [{\"colorbar\": {\"outlinewidth\": 0, \"ticks\": \"\"}, \"colorscale\": [[0.0, \"#0d0887\"], [0.1111111111111111, \"#46039f\"], [0.2222222222222222, \"#7201a8\"], [0.3333333333333333, \"#9c179e\"], [0.4444444444444444, \"#bd3786\"], [0.5555555555555556, \"#d8576b\"], [0.6666666666666666, \"#ed7953\"], [0.7777777777777778, \"#fb9f3a\"], [0.8888888888888888, \"#fdca26\"], [1.0, \"#f0f921\"]], \"type\": \"heatmapgl\"}], \"histogram\": [{\"marker\": {\"colorbar\": {\"outlinewidth\": 0, \"ticks\": \"\"}}, \"type\": \"histogram\"}], \"histogram2d\": [{\"colorbar\": {\"outlinewidth\": 0, \"ticks\": \"\"}, \"colorscale\": [[0.0, \"#0d0887\"], [0.1111111111111111, \"#46039f\"], [0.2222222222222222, \"#7201a8\"], [0.3333333333333333, \"#9c179e\"], [0.4444444444444444, \"#bd3786\"], [0.5555555555555556, \"#d8576b\"], [0.6666666666666666, \"#ed7953\"], [0.7777777777777778, \"#fb9f3a\"], [0.8888888888888888, \"#fdca26\"], [1.0, \"#f0f921\"]], \"type\": \"histogram2d\"}], \"histogram2dcontour\": [{\"colorbar\": {\"outlinewidth\": 0, \"ticks\": \"\"}, \"colorscale\": [[0.0, \"#0d0887\"], [0.1111111111111111, \"#46039f\"], [0.2222222222222222, \"#7201a8\"], [0.3333333333333333, \"#9c179e\"], [0.4444444444444444, \"#bd3786\"], [0.5555555555555556, \"#d8576b\"], [0.6666666666666666, \"#ed7953\"], [0.7777777777777778, \"#fb9f3a\"], [0.8888888888888888, \"#fdca26\"], [1.0, \"#f0f921\"]], \"type\": \"histogram2dcontour\"}], \"mesh3d\": [{\"colorbar\": {\"outlinewidth\": 0, \"ticks\": \"\"}, \"type\": \"mesh3d\"}], \"parcoords\": [{\"line\": {\"colorbar\": {\"outlinewidth\": 0, \"ticks\": \"\"}}, \"type\": \"parcoords\"}], \"pie\": [{\"automargin\": true, \"type\": \"pie\"}], \"scatter\": [{\"marker\": {\"colorbar\": {\"outlinewidth\": 0, \"ticks\": \"\"}}, \"type\": \"scatter\"}], \"scatter3d\": [{\"line\": {\"colorbar\": {\"outlinewidth\": 0, \"ticks\": \"\"}}, \"marker\": {\"colorbar\": {\"outlinewidth\": 0, \"ticks\": \"\"}}, \"type\": \"scatter3d\"}], \"scattercarpet\": [{\"marker\": {\"colorbar\": {\"outlinewidth\": 0, \"ticks\": \"\"}}, \"type\": \"scattercarpet\"}], \"scattergeo\": [{\"marker\": {\"colorbar\": {\"outlinewidth\": 0, \"ticks\": \"\"}}, \"type\": \"scattergeo\"}], \"scattergl\": [{\"marker\": {\"colorbar\": {\"outlinewidth\": 0, \"ticks\": \"\"}}, \"type\": \"scattergl\"}], \"scattermapbox\": [{\"marker\": {\"colorbar\": {\"outlinewidth\": 0, \"ticks\": \"\"}}, \"type\": \"scattermapbox\"}], \"scatterpolar\": [{\"marker\": {\"colorbar\": {\"outlinewidth\": 0, \"ticks\": \"\"}}, \"type\": \"scatterpolar\"}], \"scatterpolargl\": [{\"marker\": {\"colorbar\": {\"outlinewidth\": 0, \"ticks\": \"\"}}, \"type\": \"scatterpolargl\"}], \"scatterternary\": [{\"marker\": {\"colorbar\": {\"outlinewidth\": 0, \"ticks\": \"\"}}, \"type\": \"scatterternary\"}], \"surface\": [{\"colorbar\": {\"outlinewidth\": 0, \"ticks\": \"\"}, \"colorscale\": [[0.0, \"#0d0887\"], [0.1111111111111111, \"#46039f\"], [0.2222222222222222, \"#7201a8\"], [0.3333333333333333, \"#9c179e\"], [0.4444444444444444, \"#bd3786\"], [0.5555555555555556, \"#d8576b\"], [0.6666666666666666, \"#ed7953\"], [0.7777777777777778, \"#fb9f3a\"], [0.8888888888888888, \"#fdca26\"], [1.0, \"#f0f921\"]], \"type\": \"surface\"}], \"table\": [{\"cells\": {\"fill\": {\"color\": \"#EBF0F8\"}, \"line\": {\"color\": \"white\"}}, \"header\": {\"fill\": {\"color\": \"#C8D4E3\"}, \"line\": {\"color\": \"white\"}}, \"type\": \"table\"}]}, \"layout\": {\"annotationdefaults\": {\"arrowcolor\": \"#2a3f5f\", \"arrowhead\": 0, \"arrowwidth\": 1}, \"coloraxis\": {\"colorbar\": {\"outlinewidth\": 0, \"ticks\": \"\"}}, \"colorscale\": {\"diverging\": [[0, \"#8e0152\"], [0.1, \"#c51b7d\"], [0.2, \"#de77ae\"], [0.3, \"#f1b6da\"], [0.4, \"#fde0ef\"], [0.5, \"#f7f7f7\"], [0.6, \"#e6f5d0\"], [0.7, \"#b8e186\"], [0.8, \"#7fbc41\"], [0.9, \"#4d9221\"], [1, \"#276419\"]], \"sequential\": [[0.0, \"#0d0887\"], [0.1111111111111111, \"#46039f\"], [0.2222222222222222, \"#7201a8\"], [0.3333333333333333, \"#9c179e\"], [0.4444444444444444, \"#bd3786\"], [0.5555555555555556, \"#d8576b\"], [0.6666666666666666, \"#ed7953\"], [0.7777777777777778, \"#fb9f3a\"], [0.8888888888888888, \"#fdca26\"], [1.0, \"#f0f921\"]], \"sequentialminus\": [[0.0, \"#0d0887\"], [0.1111111111111111, \"#46039f\"], [0.2222222222222222, \"#7201a8\"], [0.3333333333333333, \"#9c179e\"], [0.4444444444444444, \"#bd3786\"], [0.5555555555555556, \"#d8576b\"], [0.6666666666666666, \"#ed7953\"], [0.7777777777777778, \"#fb9f3a\"], [0.8888888888888888, \"#fdca26\"], [1.0, \"#f0f921\"]]}, \"colorway\": [\"#636efa\", \"#EF553B\", \"#00cc96\", \"#ab63fa\", \"#FFA15A\", \"#19d3f3\", \"#FF6692\", \"#B6E880\", \"#FF97FF\", \"#FECB52\"], \"font\": {\"color\": \"#2a3f5f\"}, \"geo\": {\"bgcolor\": \"white\", \"lakecolor\": \"white\", \"landcolor\": \"#E5ECF6\", \"showlakes\": true, \"showland\": true, \"subunitcolor\": \"white\"}, \"hoverlabel\": {\"align\": \"left\"}, \"hovermode\": \"closest\", \"mapbox\": {\"style\": \"light\"}, \"paper_bgcolor\": \"white\", \"plot_bgcolor\": \"#E5ECF6\", \"polar\": {\"angularaxis\": {\"gridcolor\": \"white\", \"linecolor\": \"white\", \"ticks\": \"\"}, \"bgcolor\": \"#E5ECF6\", \"radialaxis\": {\"gridcolor\": \"white\", \"linecolor\": \"white\", \"ticks\": \"\"}}, \"scene\": {\"xaxis\": {\"backgroundcolor\": \"#E5ECF6\", \"gridcolor\": \"white\", \"gridwidth\": 2, \"linecolor\": \"white\", \"showbackground\": true, \"ticks\": \"\", \"zerolinecolor\": \"white\"}, \"yaxis\": {\"backgroundcolor\": \"#E5ECF6\", \"gridcolor\": \"white\", \"gridwidth\": 2, \"linecolor\": \"white\", \"showbackground\": true, \"ticks\": \"\", \"zerolinecolor\": \"white\"}, \"zaxis\": {\"backgroundcolor\": \"#E5ECF6\", \"gridcolor\": \"white\", \"gridwidth\": 2, \"linecolor\": \"white\", \"showbackground\": true, \"ticks\": \"\", \"zerolinecolor\": \"white\"}}, \"shapedefaults\": {\"line\": {\"color\": \"#2a3f5f\"}}, \"ternary\": {\"aaxis\": {\"gridcolor\": \"white\", \"linecolor\": \"white\", \"ticks\": \"\"}, \"baxis\": {\"gridcolor\": \"white\", \"linecolor\": \"white\", \"ticks\": \"\"}, \"bgcolor\": \"#E5ECF6\", \"caxis\": {\"gridcolor\": \"white\", \"linecolor\": \"white\", \"ticks\": \"\"}}, \"title\": {\"x\": 0.05}, \"xaxis\": {\"automargin\": true, \"gridcolor\": \"white\", \"linecolor\": \"white\", \"ticks\": \"\", \"title\": {\"standoff\": 15}, \"zerolinecolor\": \"white\", \"zerolinewidth\": 2}, \"yaxis\": {\"automargin\": true, \"gridcolor\": \"white\", \"linecolor\": \"white\", \"ticks\": \"\", \"title\": {\"standoff\": 15}, \"zerolinecolor\": \"white\", \"zerolinewidth\": 2}}}, \"title\": {\"text\": \"Mean Squared Error by Epoch\"}},\n",
       "                        {\"responsive\": true}\n",
       "                    ).then(function(){\n",
       "                            \n",
       "var gd = document.getElementById('fbad4b8f-7cde-47c2-a615-ac32737f9755');\n",
       "var x = new MutationObserver(function (mutations, observer) {{\n",
       "        var display = window.getComputedStyle(gd).display;\n",
       "        if (!display || display === 'none') {{\n",
       "            console.log([gd, 'removed!']);\n",
       "            Plotly.purge(gd);\n",
       "            observer.disconnect();\n",
       "        }}\n",
       "}});\n",
       "\n",
       "// Listen for the removal of the full notebook cells\n",
       "var notebookContainer = gd.closest('#notebook-container');\n",
       "if (notebookContainer) {{\n",
       "    x.observe(notebookContainer, {childList: true});\n",
       "}}\n",
       "\n",
       "// Listen for the clearing of the current output cell\n",
       "var outputEl = gd.closest('.output');\n",
       "if (outputEl) {{\n",
       "    x.observe(outputEl, {childList: true});\n",
       "}}\n",
       "\n",
       "                        })\n",
       "                };\n",
       "                });\n",
       "            </script>\n",
       "        </div>"
      ]
     },
     "metadata": {},
     "output_type": "display_data"
    }
   ],
   "source": [
    "from plotly import graph_objects as go\n",
    "\n",
    "fig = go.Figure(\n",
    "    data=go.Scatter(x=hist.epoch, y=hist.history[\"mean_squared_error\"], mode=\"markers\"),\n",
    ")\n",
    "fig.update_layout(\n",
    "    title=\"Mean Squared Error by Epoch\",\n",
    ")\n",
    "fig.show()"
   ]
  },
  {
   "cell_type": "code",
   "execution_count": 66,
   "metadata": {},
   "outputs": [
    {
     "name": "stdout",
     "output_type": "stream",
     "text": [
      "102/102 [==============================] - 0s 1ms/sample - loss: 570.7129 - mean_squared_error: 570.7128\n"
     ]
    },
    {
     "data": {
      "text/plain": [
       "[570.7128654928769, 570.7128]"
      ]
     },
     "execution_count": 66,
     "metadata": {},
     "output_type": "execute_result"
    }
   ],
   "source": [
    "scores = model.evaluate(X_test, y_test)\n",
    "scores"
   ]
  },
  {
   "cell_type": "markdown",
   "metadata": {
    "colab_type": "text",
    "id": "SfcFnOONyuNm"
   },
   "source": [
    "## Use the Keras Library to build an image recognition network using the Fashion-MNIST dataset (also comes with keras)\n",
    "\n",
    "- Load and preprocess the image data similar to how we preprocessed the MNIST data in class.\n",
    "- Make sure to one-hot encode your category labels\n",
    "- Make sure to have your final layer have as many nodes as the number of classes that you want to predict.\n",
    "- Try different hyperparameters. What is the highest accuracy that you are able to achieve.\n",
    "- Use the history object that is returned from model.fit to make graphs of the model's loss or train/validation accuracies by epoch. \n",
    "- Remember that neural networks fall prey to randomness so you may need to run your model multiple times (or use Cross Validation) in order to tell if a change to a hyperparameter is truly producing better results."
   ]
  },
  {
   "cell_type": "code",
   "execution_count": 67,
   "metadata": {
    "colab": {},
    "colab_type": "code",
    "id": "szi6-IpuzaH1"
   },
   "outputs": [],
   "source": [
    "from keras.datasets import fashion_mnist\n",
    "\n",
    "(X_train, y_train), (X_test, y_test) = fashion_mnist.load_data()"
   ]
  },
  {
   "cell_type": "code",
   "execution_count": 68,
   "metadata": {},
   "outputs": [
    {
     "data": {
      "text/plain": [
       "(60000, 28, 28)"
      ]
     },
     "execution_count": 68,
     "metadata": {},
     "output_type": "execute_result"
    }
   ],
   "source": [
    "X_train.shape"
   ]
  },
  {
   "cell_type": "code",
   "execution_count": 69,
   "metadata": {},
   "outputs": [],
   "source": [
    "import numpy as np\n",
    "\n",
    "X_train = X_train.reshape(X_train.shape[0], X_train.shape[1]*X_train.shape[2])\n",
    "X_test = X_test.reshape(X_test.shape[0], X_test.shape[1]*X_test.shape[2])\n",
    "\n",
    "X_train = X_train.astype(np.float64)\n",
    "X_test = X_test.astype(np.float64)"
   ]
  },
  {
   "cell_type": "code",
   "execution_count": 70,
   "metadata": {},
   "outputs": [],
   "source": [
    "import keras\n",
    "\n",
    "y_train = keras.utils.to_categorical(y_train)\n",
    "y_test = keras.utils.to_categorical(y_test)"
   ]
  },
  {
   "cell_type": "code",
   "execution_count": 72,
   "metadata": {},
   "outputs": [
    {
     "data": {
      "text/plain": [
       "(60000, 10)"
      ]
     },
     "execution_count": 72,
     "metadata": {},
     "output_type": "execute_result"
    }
   ],
   "source": [
    "y_train.shape"
   ]
  },
  {
   "cell_type": "code",
   "execution_count": 75,
   "metadata": {},
   "outputs": [
    {
     "name": "stdout",
     "output_type": "stream",
     "text": [
      "Model: \"sequential_2\"\n",
      "_________________________________________________________________\n",
      "Layer (type)                 Output Shape              Param #   \n",
      "=================================================================\n",
      "dense_46 (Dense)             (None, 32)                25120     \n",
      "_________________________________________________________________\n",
      "dense_47 (Dense)             (None, 32)                1056      \n",
      "_________________________________________________________________\n",
      "dense_48 (Dense)             (None, 32)                1056      \n",
      "_________________________________________________________________\n",
      "dense_49 (Dense)             (None, 32)                1056      \n",
      "_________________________________________________________________\n",
      "dense_50 (Dense)             (None, 32)                1056      \n",
      "_________________________________________________________________\n",
      "dense_51 (Dense)             (None, 10)                330       \n",
      "=================================================================\n",
      "Total params: 29,674\n",
      "Trainable params: 29,674\n",
      "Non-trainable params: 0\n",
      "_________________________________________________________________\n"
     ]
    }
   ],
   "source": [
    "mnist_model = Sequential()\n",
    "mnist_model.add(\n",
    "    Dense(32, input_shape=(X_train.shape[1],), activation=\"relu\"),\n",
    ")\n",
    "mnist_model.add(\n",
    "    Dense(32, activation=\"relu\"),\n",
    ")\n",
    "mnist_model.add(\n",
    "    Dense(32, activation=\"relu\"),\n",
    ")\n",
    "mnist_model.add(\n",
    "    Dense(32, activation=\"relu\"),\n",
    ")\n",
    "mnist_model.add(\n",
    "    Dense(32, activation=\"relu\"),\n",
    ")\n",
    "mnist_model.add(\n",
    "    Dense(y_train.shape[1], activation=\"softmax\"),\n",
    ")\n",
    "\n",
    "# compile\n",
    "mnist_model.compile(loss=\"categorical_crossentropy\", optimizer=\"adam\", metrics=[\"accuracy\"])\n",
    "mnist_model.summary()"
   ]
  },
  {
   "cell_type": "code",
   "execution_count": 77,
   "metadata": {},
   "outputs": [
    {
     "name": "stdout",
     "output_type": "stream",
     "text": [
      "Train on 60000 samples\n",
      "Epoch 1/100\n",
      "60000/60000 [==============================] - 4s 73us/sample - loss: 0.5711 - accuracy: 0.7853\n",
      "Epoch 2/100\n",
      "60000/60000 [==============================] - 4s 74us/sample - loss: 0.5147 - accuracy: 0.8123\n",
      "Epoch 3/100\n",
      "60000/60000 [==============================] - 4s 74us/sample - loss: 0.4791 - accuracy: 0.8283\n",
      "Epoch 4/100\n",
      "60000/60000 [==============================] - 4s 75us/sample - loss: 0.4578 - accuracy: 0.8358\n",
      "Epoch 5/100\n",
      "60000/60000 [==============================] - 4s 74us/sample - loss: 0.4425 - accuracy: 0.8412\n",
      "Epoch 6/100\n",
      "60000/60000 [==============================] - 4s 74us/sample - loss: 0.4307 - accuracy: 0.8454\n",
      "Epoch 7/100\n",
      "60000/60000 [==============================] - 4s 75us/sample - loss: 0.4231 - accuracy: 0.8490\n",
      "Epoch 8/100\n",
      "60000/60000 [==============================] - 5s 76us/sample - loss: 0.4125 - accuracy: 0.8515\n",
      "Epoch 9/100\n",
      "60000/60000 [==============================] - 5s 75us/sample - loss: 0.4025 - accuracy: 0.8568\n",
      "Epoch 10/100\n",
      "60000/60000 [==============================] - 5s 75us/sample - loss: 0.3923 - accuracy: 0.8574\n",
      "Epoch 11/100\n",
      "60000/60000 [==============================] - 5s 78us/sample - loss: 0.3871 - accuracy: 0.8612\n",
      "Epoch 12/100\n",
      "60000/60000 [==============================] - 5s 75us/sample - loss: 0.3815 - accuracy: 0.8618\n",
      "Epoch 13/100\n",
      "60000/60000 [==============================] - 5s 77us/sample - loss: 0.3755 - accuracy: 0.8641\n",
      "Epoch 14/100\n",
      "60000/60000 [==============================] - 5s 77us/sample - loss: 0.3686 - accuracy: 0.8650\n",
      "Epoch 15/100\n",
      "60000/60000 [==============================] - 4s 74us/sample - loss: 0.3632 - accuracy: 0.8677\n",
      "Epoch 16/100\n",
      "60000/60000 [==============================] - 4s 75us/sample - loss: 0.3581 - accuracy: 0.8687\n",
      "Epoch 17/100\n",
      "60000/60000 [==============================] - 5s 75us/sample - loss: 0.3558 - accuracy: 0.8699\n",
      "Epoch 18/100\n",
      "60000/60000 [==============================] - 5s 81us/sample - loss: 0.3490 - accuracy: 0.8710\n",
      "Epoch 19/100\n",
      "60000/60000 [==============================] - 5s 78us/sample - loss: 0.3452 - accuracy: 0.8740\n",
      "Epoch 20/100\n",
      "60000/60000 [==============================] - 5s 80us/sample - loss: 0.3453 - accuracy: 0.8741\n",
      "Epoch 21/100\n",
      "60000/60000 [==============================] - 5s 82us/sample - loss: 0.3399 - accuracy: 0.8744\n",
      "Epoch 22/100\n",
      "60000/60000 [==============================] - 5s 77us/sample - loss: 0.3351 - accuracy: 0.8761\n",
      "Epoch 23/100\n",
      "60000/60000 [==============================] - 5s 81us/sample - loss: 0.3329 - accuracy: 0.8778\n",
      "Epoch 24/100\n",
      "60000/60000 [==============================] - 5s 79us/sample - loss: 0.3305 - accuracy: 0.8785\n",
      "Epoch 25/100\n",
      "60000/60000 [==============================] - 5s 79us/sample - loss: 0.3292 - accuracy: 0.8796\n",
      "Epoch 26/100\n",
      "60000/60000 [==============================] - 5s 78us/sample - loss: 0.3299 - accuracy: 0.8801\n",
      "Epoch 27/100\n",
      "60000/60000 [==============================] - 5s 76us/sample - loss: 0.3241 - accuracy: 0.8809\n",
      "Epoch 28/100\n",
      "60000/60000 [==============================] - 4s 70us/sample - loss: 0.3237 - accuracy: 0.8821\n",
      "Epoch 29/100\n",
      "60000/60000 [==============================] - 5s 83us/sample - loss: 0.3198 - accuracy: 0.8832\n",
      "Epoch 30/100\n",
      "60000/60000 [==============================] - 6s 104us/sample - loss: 0.3191 - accuracy: 0.8840\n",
      "Epoch 31/100\n",
      "60000/60000 [==============================] - 5s 84us/sample - loss: 0.3168 - accuracy: 0.8847\n",
      "Epoch 32/100\n",
      "60000/60000 [==============================] - 5s 77us/sample - loss: 0.3143 - accuracy: 0.8850\n",
      "Epoch 33/100\n",
      "60000/60000 [==============================] - 4s 71us/sample - loss: 0.3087 - accuracy: 0.8860\n",
      "Epoch 34/100\n",
      "60000/60000 [==============================] - 4s 69us/sample - loss: 0.3128 - accuracy: 0.8862\n",
      "Epoch 35/100\n",
      "60000/60000 [==============================] - 4s 70us/sample - loss: 0.3079 - accuracy: 0.8879\n",
      "Epoch 36/100\n",
      "60000/60000 [==============================] - 4s 69us/sample - loss: 0.3111 - accuracy: 0.8866\n",
      "Epoch 37/100\n",
      "60000/60000 [==============================] - 4s 71us/sample - loss: 0.3063 - accuracy: 0.8888\n",
      "Epoch 38/100\n",
      "60000/60000 [==============================] - 4s 72us/sample - loss: 0.3052 - accuracy: 0.8889\n",
      "Epoch 39/100\n",
      "60000/60000 [==============================] - 4s 72us/sample - loss: 0.3029 - accuracy: 0.8892\n",
      "Epoch 40/100\n",
      "60000/60000 [==============================] - 4s 72us/sample - loss: 0.3038 - accuracy: 0.8882\n",
      "Epoch 41/100\n",
      "60000/60000 [==============================] - 5s 76us/sample - loss: 0.2986 - accuracy: 0.8911\n",
      "Epoch 42/100\n",
      "60000/60000 [==============================] - 4s 75us/sample - loss: 0.2963 - accuracy: 0.8907\n",
      "Epoch 43/100\n",
      "60000/60000 [==============================] - 4s 66us/sample - loss: 0.2979 - accuracy: 0.8905\n",
      "Epoch 44/100\n",
      "60000/60000 [==============================] - 4s 66us/sample - loss: 0.2987 - accuracy: 0.8907\n",
      "Epoch 45/100\n",
      "60000/60000 [==============================] - 4s 74us/sample - loss: 0.2929 - accuracy: 0.8919\n",
      "Epoch 46/100\n",
      "60000/60000 [==============================] - 5s 78us/sample - loss: 0.2931 - accuracy: 0.8926\n",
      "Epoch 47/100\n",
      "60000/60000 [==============================] - 5s 84us/sample - loss: 0.2940 - accuracy: 0.8916\n",
      "Epoch 48/100\n",
      "60000/60000 [==============================] - 5s 79us/sample - loss: 0.2986 - accuracy: 0.8912\n",
      "Epoch 49/100\n",
      "60000/60000 [==============================] - 4s 72us/sample - loss: 0.2879 - accuracy: 0.8942\n",
      "Epoch 50/100\n",
      "60000/60000 [==============================] - 4s 66us/sample - loss: 0.2956 - accuracy: 0.8932\n",
      "Epoch 51/100\n",
      "60000/60000 [==============================] - 4s 68us/sample - loss: 0.2878 - accuracy: 0.8947\n",
      "Epoch 52/100\n",
      "60000/60000 [==============================] - 4s 72us/sample - loss: 0.2854 - accuracy: 0.8955\n",
      "Epoch 53/100\n",
      "60000/60000 [==============================] - 4s 70us/sample - loss: 0.2889 - accuracy: 0.8940\n",
      "Epoch 54/100\n",
      "60000/60000 [==============================] - 4s 65us/sample - loss: 0.2853 - accuracy: 0.8959\n",
      "Epoch 55/100\n",
      "60000/60000 [==============================] - 5s 80us/sample - loss: 0.2923 - accuracy: 0.8934\n",
      "Epoch 56/100\n",
      "60000/60000 [==============================] - 4s 73us/sample - loss: 0.2843 - accuracy: 0.8948\n",
      "Epoch 57/100\n",
      "60000/60000 [==============================] - 4s 71us/sample - loss: 0.2838 - accuracy: 0.8964\n",
      "Epoch 58/100\n",
      "60000/60000 [==============================] - 5s 79us/sample - loss: 0.2827 - accuracy: 0.8961\n",
      "Epoch 59/100\n",
      "60000/60000 [==============================] - 5s 76us/sample - loss: 0.2801 - accuracy: 0.8957\n",
      "Epoch 60/100\n",
      "60000/60000 [==============================] - 4s 74us/sample - loss: 0.2787 - accuracy: 0.8961\n",
      "Epoch 61/100\n",
      "60000/60000 [==============================] - 5s 80us/sample - loss: 0.2782 - accuracy: 0.8977\n",
      "Epoch 62/100\n",
      "60000/60000 [==============================] - 5s 80us/sample - loss: 0.2792 - accuracy: 0.8967\n",
      "Epoch 63/100\n",
      "60000/60000 [==============================] - 5s 79us/sample - loss: 0.2763 - accuracy: 0.8998\n",
      "Epoch 64/100\n",
      "60000/60000 [==============================] - 5s 78us/sample - loss: 0.2818 - accuracy: 0.8978\n",
      "Epoch 65/100\n",
      "60000/60000 [==============================] - 5s 77us/sample - loss: 0.2770 - accuracy: 0.8982\n",
      "Epoch 66/100\n",
      "60000/60000 [==============================] - 5s 76us/sample - loss: 0.2740 - accuracy: 0.8995\n",
      "Epoch 67/100\n",
      "60000/60000 [==============================] - 5s 78us/sample - loss: 0.2781 - accuracy: 0.8966\n",
      "Epoch 68/100\n",
      "60000/60000 [==============================] - 5s 80us/sample - loss: 0.2760 - accuracy: 0.8976\n",
      "Epoch 69/100\n",
      "60000/60000 [==============================] - 5s 87us/sample - loss: 0.2770 - accuracy: 0.8981\n",
      "Epoch 70/100\n",
      "60000/60000 [==============================] - 5s 81us/sample - loss: 0.2724 - accuracy: 0.9002\n",
      "Epoch 71/100\n",
      "60000/60000 [==============================] - 5s 89us/sample - loss: 0.2810 - accuracy: 0.8977\n",
      "Epoch 72/100\n",
      "60000/60000 [==============================] - 5s 77us/sample - loss: 0.2713 - accuracy: 0.8996\n",
      "Epoch 73/100\n",
      "60000/60000 [==============================] - 5s 82us/sample - loss: 0.2767 - accuracy: 0.8989\n",
      "Epoch 74/100\n",
      "60000/60000 [==============================] - 5s 79us/sample - loss: 0.2728 - accuracy: 0.8995\n",
      "Epoch 75/100\n",
      "60000/60000 [==============================] - 5s 77us/sample - loss: 0.2749 - accuracy: 0.9001\n",
      "Epoch 76/100\n",
      "60000/60000 [==============================] - 5s 78us/sample - loss: 0.2704 - accuracy: 0.9008\n",
      "Epoch 77/100\n",
      "60000/60000 [==============================] - 5s 78us/sample - loss: 0.2706 - accuracy: 0.9001\n",
      "Epoch 78/100\n",
      "60000/60000 [==============================] - 5s 79us/sample - loss: 0.2715 - accuracy: 0.9007\n",
      "Epoch 79/100\n",
      "60000/60000 [==============================] - 5s 85us/sample - loss: 0.2721 - accuracy: 0.9009\n",
      "Epoch 80/100\n",
      "60000/60000 [==============================] - 5s 80us/sample - loss: 0.2712 - accuracy: 0.9007\n",
      "Epoch 81/100\n",
      "60000/60000 [==============================] - 5s 78us/sample - loss: 0.2702 - accuracy: 0.9015\n",
      "Epoch 82/100\n",
      "60000/60000 [==============================] - 5s 77us/sample - loss: 0.2693 - accuracy: 0.9004\n",
      "Epoch 83/100\n",
      "60000/60000 [==============================] - 5s 77us/sample - loss: 0.2745 - accuracy: 0.8997\n",
      "Epoch 84/100\n",
      "60000/60000 [==============================] - 5s 86us/sample - loss: 0.2681 - accuracy: 0.9020\n",
      "Epoch 85/100\n",
      "60000/60000 [==============================] - 6s 97us/sample - loss: 0.2664 - accuracy: 0.9018\n",
      "Epoch 86/100\n",
      "60000/60000 [==============================] - 6s 95us/sample - loss: 0.2669 - accuracy: 0.9031\n",
      "Epoch 87/100\n",
      "60000/60000 [==============================] - 5s 89us/sample - loss: 0.2704 - accuracy: 0.9016\n",
      "Epoch 88/100\n",
      "60000/60000 [==============================] - 5s 81us/sample - loss: 0.2711 - accuracy: 0.9014\n",
      "Epoch 89/100\n",
      "60000/60000 [==============================] - 4s 72us/sample - loss: 0.2660 - accuracy: 0.9015\n",
      "Epoch 90/100\n",
      "60000/60000 [==============================] - 4s 74us/sample - loss: 0.2678 - accuracy: 0.9026\n",
      "Epoch 91/100\n",
      "60000/60000 [==============================] - 5s 76us/sample - loss: 0.2707 - accuracy: 0.9011\n",
      "Epoch 92/100\n",
      "60000/60000 [==============================] - 4s 72us/sample - loss: 0.2631 - accuracy: 0.9036\n",
      "Epoch 93/100\n",
      "60000/60000 [==============================] - 4s 73us/sample - loss: 0.2631 - accuracy: 0.9036\n",
      "Epoch 94/100\n",
      "60000/60000 [==============================] - 5s 79us/sample - loss: 0.2640 - accuracy: 0.9029\n",
      "Epoch 95/100\n",
      "60000/60000 [==============================] - 5s 79us/sample - loss: 0.2670 - accuracy: 0.9017\n",
      "Epoch 96/100\n",
      "60000/60000 [==============================] - 4s 71us/sample - loss: 0.2668 - accuracy: 0.9035s - loss: 0.2669 - accuracy: 0.\n",
      "Epoch 97/100\n",
      "60000/60000 [==============================] - 4s 71us/sample - loss: 0.2630 - accuracy: 0.9039\n",
      "Epoch 98/100\n",
      "60000/60000 [==============================] - 4s 70us/sample - loss: 0.2654 - accuracy: 0.9028\n",
      "Epoch 99/100\n",
      "60000/60000 [==============================] - 4s 74us/sample - loss: 0.2647 - accuracy: 0.9040\n",
      "Epoch 100/100\n",
      "60000/60000 [==============================] - 4s 70us/sample - loss: 0.2584 - accuracy: 0.9052\n"
     ]
    }
   ],
   "source": [
    "hist = mnist_model.fit(X_train, y_train, batch_size=32, epochs=100)\n"
   ]
  },
  {
   "cell_type": "code",
   "execution_count": 78,
   "metadata": {},
   "outputs": [
    {
     "data": {
      "application/vnd.plotly.v1+json": {
       "config": {
        "plotlyServerURL": "https://plot.ly"
       },
       "data": [
        {
         "type": "scatter",
         "x": [
          0,
          1,
          2,
          3,
          4,
          5,
          6,
          7,
          8,
          9,
          10,
          11,
          12,
          13,
          14,
          15,
          16,
          17,
          18,
          19,
          20,
          21,
          22,
          23,
          24,
          25,
          26,
          27,
          28,
          29,
          30,
          31,
          32,
          33,
          34,
          35,
          36,
          37,
          38,
          39,
          40,
          41,
          42,
          43,
          44,
          45,
          46,
          47,
          48,
          49,
          50,
          51,
          52,
          53,
          54,
          55,
          56,
          57,
          58,
          59,
          60,
          61,
          62,
          63,
          64,
          65,
          66,
          67,
          68,
          69,
          70,
          71,
          72,
          73,
          74,
          75,
          76,
          77,
          78,
          79,
          80,
          81,
          82,
          83,
          84,
          85,
          86,
          87,
          88,
          89,
          90,
          91,
          92,
          93,
          94,
          95,
          96,
          97,
          98,
          99
         ],
         "y": [
          0.785266637802124,
          0.812333345413208,
          0.8282666802406311,
          0.8357999920845032,
          0.8412166833877563,
          0.8454333543777466,
          0.8489500284194946,
          0.8514833450317383,
          0.8568166494369507,
          0.857366681098938,
          0.86121666431427,
          0.8617500066757202,
          0.8640999794006348,
          0.8649500012397766,
          0.867733359336853,
          0.8687333464622498,
          0.869949996471405,
          0.8710166811943054,
          0.8740000128746033,
          0.8740666508674622,
          0.8743500113487244,
          0.8760666847229004,
          0.8778166770935059,
          0.8784833550453186,
          0.8795666694641113,
          0.8801000118255615,
          0.8808666467666626,
          0.882099986076355,
          0.8832333087921143,
          0.8839666843414307,
          0.8847000002861023,
          0.8849999904632568,
          0.8860499858856201,
          0.8861833214759827,
          0.8878666758537292,
          0.8865833282470703,
          0.8888499736785889,
          0.8888833522796631,
          0.8891833424568176,
          0.8881999850273132,
          0.8910999894142151,
          0.8907333612442017,
          0.8904666900634766,
          0.8906999826431274,
          0.8918833136558533,
          0.8925833106040955,
          0.8915666937828064,
          0.8911833167076111,
          0.8941500186920166,
          0.8931666612625122,
          0.8946666717529297,
          0.8955000042915344,
          0.8940333127975464,
          0.8958500027656555,
          0.8933500051498413,
          0.8948333263397217,
          0.8963666558265686,
          0.8960833549499512,
          0.8957333564758301,
          0.8960666656494141,
          0.8977333307266235,
          0.8967166543006897,
          0.8998000025749207,
          0.8978333473205566,
          0.8981833457946777,
          0.8994666934013367,
          0.8965833187103271,
          0.8975666761398315,
          0.8981000185012817,
          0.9001833200454712,
          0.8977333307266235,
          0.899649977684021,
          0.8988833427429199,
          0.8994500041007996,
          0.9000666737556458,
          0.9007999897003174,
          0.9000666737556458,
          0.9007166624069214,
          0.9008833169937134,
          0.9006999731063843,
          0.9014999866485596,
          0.9004499912261963,
          0.8997499942779541,
          0.9020333290100098,
          0.9017666578292847,
          0.9031166434288025,
          0.9016000032424927,
          0.9013833403587341,
          0.901533305644989,
          0.902649998664856,
          0.9011333584785461,
          0.9036333560943604,
          0.9035500288009644,
          0.902899980545044,
          0.9017333388328552,
          0.9035333395004272,
          0.9038666486740112,
          0.9027666449546814,
          0.9040499925613403,
          0.9052333235740662
         ]
        }
       ],
       "layout": {
        "autosize": true,
        "template": {
         "data": {
          "bar": [
           {
            "error_x": {
             "color": "#2a3f5f"
            },
            "error_y": {
             "color": "#2a3f5f"
            },
            "marker": {
             "line": {
              "color": "#E5ECF6",
              "width": 0.5
             }
            },
            "type": "bar"
           }
          ],
          "barpolar": [
           {
            "marker": {
             "line": {
              "color": "#E5ECF6",
              "width": 0.5
             }
            },
            "type": "barpolar"
           }
          ],
          "carpet": [
           {
            "aaxis": {
             "endlinecolor": "#2a3f5f",
             "gridcolor": "white",
             "linecolor": "white",
             "minorgridcolor": "white",
             "startlinecolor": "#2a3f5f"
            },
            "baxis": {
             "endlinecolor": "#2a3f5f",
             "gridcolor": "white",
             "linecolor": "white",
             "minorgridcolor": "white",
             "startlinecolor": "#2a3f5f"
            },
            "type": "carpet"
           }
          ],
          "choropleth": [
           {
            "colorbar": {
             "outlinewidth": 0,
             "ticks": ""
            },
            "type": "choropleth"
           }
          ],
          "contour": [
           {
            "colorbar": {
             "outlinewidth": 0,
             "ticks": ""
            },
            "colorscale": [
             [
              0,
              "#0d0887"
             ],
             [
              0.1111111111111111,
              "#46039f"
             ],
             [
              0.2222222222222222,
              "#7201a8"
             ],
             [
              0.3333333333333333,
              "#9c179e"
             ],
             [
              0.4444444444444444,
              "#bd3786"
             ],
             [
              0.5555555555555556,
              "#d8576b"
             ],
             [
              0.6666666666666666,
              "#ed7953"
             ],
             [
              0.7777777777777778,
              "#fb9f3a"
             ],
             [
              0.8888888888888888,
              "#fdca26"
             ],
             [
              1,
              "#f0f921"
             ]
            ],
            "type": "contour"
           }
          ],
          "contourcarpet": [
           {
            "colorbar": {
             "outlinewidth": 0,
             "ticks": ""
            },
            "type": "contourcarpet"
           }
          ],
          "heatmap": [
           {
            "colorbar": {
             "outlinewidth": 0,
             "ticks": ""
            },
            "colorscale": [
             [
              0,
              "#0d0887"
             ],
             [
              0.1111111111111111,
              "#46039f"
             ],
             [
              0.2222222222222222,
              "#7201a8"
             ],
             [
              0.3333333333333333,
              "#9c179e"
             ],
             [
              0.4444444444444444,
              "#bd3786"
             ],
             [
              0.5555555555555556,
              "#d8576b"
             ],
             [
              0.6666666666666666,
              "#ed7953"
             ],
             [
              0.7777777777777778,
              "#fb9f3a"
             ],
             [
              0.8888888888888888,
              "#fdca26"
             ],
             [
              1,
              "#f0f921"
             ]
            ],
            "type": "heatmap"
           }
          ],
          "heatmapgl": [
           {
            "colorbar": {
             "outlinewidth": 0,
             "ticks": ""
            },
            "colorscale": [
             [
              0,
              "#0d0887"
             ],
             [
              0.1111111111111111,
              "#46039f"
             ],
             [
              0.2222222222222222,
              "#7201a8"
             ],
             [
              0.3333333333333333,
              "#9c179e"
             ],
             [
              0.4444444444444444,
              "#bd3786"
             ],
             [
              0.5555555555555556,
              "#d8576b"
             ],
             [
              0.6666666666666666,
              "#ed7953"
             ],
             [
              0.7777777777777778,
              "#fb9f3a"
             ],
             [
              0.8888888888888888,
              "#fdca26"
             ],
             [
              1,
              "#f0f921"
             ]
            ],
            "type": "heatmapgl"
           }
          ],
          "histogram": [
           {
            "marker": {
             "colorbar": {
              "outlinewidth": 0,
              "ticks": ""
             }
            },
            "type": "histogram"
           }
          ],
          "histogram2d": [
           {
            "colorbar": {
             "outlinewidth": 0,
             "ticks": ""
            },
            "colorscale": [
             [
              0,
              "#0d0887"
             ],
             [
              0.1111111111111111,
              "#46039f"
             ],
             [
              0.2222222222222222,
              "#7201a8"
             ],
             [
              0.3333333333333333,
              "#9c179e"
             ],
             [
              0.4444444444444444,
              "#bd3786"
             ],
             [
              0.5555555555555556,
              "#d8576b"
             ],
             [
              0.6666666666666666,
              "#ed7953"
             ],
             [
              0.7777777777777778,
              "#fb9f3a"
             ],
             [
              0.8888888888888888,
              "#fdca26"
             ],
             [
              1,
              "#f0f921"
             ]
            ],
            "type": "histogram2d"
           }
          ],
          "histogram2dcontour": [
           {
            "colorbar": {
             "outlinewidth": 0,
             "ticks": ""
            },
            "colorscale": [
             [
              0,
              "#0d0887"
             ],
             [
              0.1111111111111111,
              "#46039f"
             ],
             [
              0.2222222222222222,
              "#7201a8"
             ],
             [
              0.3333333333333333,
              "#9c179e"
             ],
             [
              0.4444444444444444,
              "#bd3786"
             ],
             [
              0.5555555555555556,
              "#d8576b"
             ],
             [
              0.6666666666666666,
              "#ed7953"
             ],
             [
              0.7777777777777778,
              "#fb9f3a"
             ],
             [
              0.8888888888888888,
              "#fdca26"
             ],
             [
              1,
              "#f0f921"
             ]
            ],
            "type": "histogram2dcontour"
           }
          ],
          "mesh3d": [
           {
            "colorbar": {
             "outlinewidth": 0,
             "ticks": ""
            },
            "type": "mesh3d"
           }
          ],
          "parcoords": [
           {
            "line": {
             "colorbar": {
              "outlinewidth": 0,
              "ticks": ""
             }
            },
            "type": "parcoords"
           }
          ],
          "pie": [
           {
            "automargin": true,
            "type": "pie"
           }
          ],
          "scatter": [
           {
            "marker": {
             "colorbar": {
              "outlinewidth": 0,
              "ticks": ""
             }
            },
            "type": "scatter"
           }
          ],
          "scatter3d": [
           {
            "line": {
             "colorbar": {
              "outlinewidth": 0,
              "ticks": ""
             }
            },
            "marker": {
             "colorbar": {
              "outlinewidth": 0,
              "ticks": ""
             }
            },
            "type": "scatter3d"
           }
          ],
          "scattercarpet": [
           {
            "marker": {
             "colorbar": {
              "outlinewidth": 0,
              "ticks": ""
             }
            },
            "type": "scattercarpet"
           }
          ],
          "scattergeo": [
           {
            "marker": {
             "colorbar": {
              "outlinewidth": 0,
              "ticks": ""
             }
            },
            "type": "scattergeo"
           }
          ],
          "scattergl": [
           {
            "marker": {
             "colorbar": {
              "outlinewidth": 0,
              "ticks": ""
             }
            },
            "type": "scattergl"
           }
          ],
          "scattermapbox": [
           {
            "marker": {
             "colorbar": {
              "outlinewidth": 0,
              "ticks": ""
             }
            },
            "type": "scattermapbox"
           }
          ],
          "scatterpolar": [
           {
            "marker": {
             "colorbar": {
              "outlinewidth": 0,
              "ticks": ""
             }
            },
            "type": "scatterpolar"
           }
          ],
          "scatterpolargl": [
           {
            "marker": {
             "colorbar": {
              "outlinewidth": 0,
              "ticks": ""
             }
            },
            "type": "scatterpolargl"
           }
          ],
          "scatterternary": [
           {
            "marker": {
             "colorbar": {
              "outlinewidth": 0,
              "ticks": ""
             }
            },
            "type": "scatterternary"
           }
          ],
          "surface": [
           {
            "colorbar": {
             "outlinewidth": 0,
             "ticks": ""
            },
            "colorscale": [
             [
              0,
              "#0d0887"
             ],
             [
              0.1111111111111111,
              "#46039f"
             ],
             [
              0.2222222222222222,
              "#7201a8"
             ],
             [
              0.3333333333333333,
              "#9c179e"
             ],
             [
              0.4444444444444444,
              "#bd3786"
             ],
             [
              0.5555555555555556,
              "#d8576b"
             ],
             [
              0.6666666666666666,
              "#ed7953"
             ],
             [
              0.7777777777777778,
              "#fb9f3a"
             ],
             [
              0.8888888888888888,
              "#fdca26"
             ],
             [
              1,
              "#f0f921"
             ]
            ],
            "type": "surface"
           }
          ],
          "table": [
           {
            "cells": {
             "fill": {
              "color": "#EBF0F8"
             },
             "line": {
              "color": "white"
             }
            },
            "header": {
             "fill": {
              "color": "#C8D4E3"
             },
             "line": {
              "color": "white"
             }
            },
            "type": "table"
           }
          ]
         },
         "layout": {
          "annotationdefaults": {
           "arrowcolor": "#2a3f5f",
           "arrowhead": 0,
           "arrowwidth": 1
          },
          "coloraxis": {
           "colorbar": {
            "outlinewidth": 0,
            "ticks": ""
           }
          },
          "colorscale": {
           "diverging": [
            [
             0,
             "#8e0152"
            ],
            [
             0.1,
             "#c51b7d"
            ],
            [
             0.2,
             "#de77ae"
            ],
            [
             0.3,
             "#f1b6da"
            ],
            [
             0.4,
             "#fde0ef"
            ],
            [
             0.5,
             "#f7f7f7"
            ],
            [
             0.6,
             "#e6f5d0"
            ],
            [
             0.7,
             "#b8e186"
            ],
            [
             0.8,
             "#7fbc41"
            ],
            [
             0.9,
             "#4d9221"
            ],
            [
             1,
             "#276419"
            ]
           ],
           "sequential": [
            [
             0,
             "#0d0887"
            ],
            [
             0.1111111111111111,
             "#46039f"
            ],
            [
             0.2222222222222222,
             "#7201a8"
            ],
            [
             0.3333333333333333,
             "#9c179e"
            ],
            [
             0.4444444444444444,
             "#bd3786"
            ],
            [
             0.5555555555555556,
             "#d8576b"
            ],
            [
             0.6666666666666666,
             "#ed7953"
            ],
            [
             0.7777777777777778,
             "#fb9f3a"
            ],
            [
             0.8888888888888888,
             "#fdca26"
            ],
            [
             1,
             "#f0f921"
            ]
           ],
           "sequentialminus": [
            [
             0,
             "#0d0887"
            ],
            [
             0.1111111111111111,
             "#46039f"
            ],
            [
             0.2222222222222222,
             "#7201a8"
            ],
            [
             0.3333333333333333,
             "#9c179e"
            ],
            [
             0.4444444444444444,
             "#bd3786"
            ],
            [
             0.5555555555555556,
             "#d8576b"
            ],
            [
             0.6666666666666666,
             "#ed7953"
            ],
            [
             0.7777777777777778,
             "#fb9f3a"
            ],
            [
             0.8888888888888888,
             "#fdca26"
            ],
            [
             1,
             "#f0f921"
            ]
           ]
          },
          "colorway": [
           "#636efa",
           "#EF553B",
           "#00cc96",
           "#ab63fa",
           "#FFA15A",
           "#19d3f3",
           "#FF6692",
           "#B6E880",
           "#FF97FF",
           "#FECB52"
          ],
          "font": {
           "color": "#2a3f5f"
          },
          "geo": {
           "bgcolor": "white",
           "lakecolor": "white",
           "landcolor": "#E5ECF6",
           "showlakes": true,
           "showland": true,
           "subunitcolor": "white"
          },
          "hoverlabel": {
           "align": "left"
          },
          "hovermode": "closest",
          "mapbox": {
           "style": "light"
          },
          "paper_bgcolor": "white",
          "plot_bgcolor": "#E5ECF6",
          "polar": {
           "angularaxis": {
            "gridcolor": "white",
            "linecolor": "white",
            "ticks": ""
           },
           "bgcolor": "#E5ECF6",
           "radialaxis": {
            "gridcolor": "white",
            "linecolor": "white",
            "ticks": ""
           }
          },
          "scene": {
           "xaxis": {
            "backgroundcolor": "#E5ECF6",
            "gridcolor": "white",
            "gridwidth": 2,
            "linecolor": "white",
            "showbackground": true,
            "ticks": "",
            "zerolinecolor": "white"
           },
           "yaxis": {
            "backgroundcolor": "#E5ECF6",
            "gridcolor": "white",
            "gridwidth": 2,
            "linecolor": "white",
            "showbackground": true,
            "ticks": "",
            "zerolinecolor": "white"
           },
           "zaxis": {
            "backgroundcolor": "#E5ECF6",
            "gridcolor": "white",
            "gridwidth": 2,
            "linecolor": "white",
            "showbackground": true,
            "ticks": "",
            "zerolinecolor": "white"
           }
          },
          "shapedefaults": {
           "line": {
            "color": "#2a3f5f"
           }
          },
          "ternary": {
           "aaxis": {
            "gridcolor": "white",
            "linecolor": "white",
            "ticks": ""
           },
           "baxis": {
            "gridcolor": "white",
            "linecolor": "white",
            "ticks": ""
           },
           "bgcolor": "#E5ECF6",
           "caxis": {
            "gridcolor": "white",
            "linecolor": "white",
            "ticks": ""
           }
          },
          "title": {
           "x": 0.05
          },
          "xaxis": {
           "automargin": true,
           "gridcolor": "white",
           "linecolor": "white",
           "ticks": "",
           "title": {
            "standoff": 15
           },
           "zerolinecolor": "white",
           "zerolinewidth": 2
          },
          "yaxis": {
           "automargin": true,
           "gridcolor": "white",
           "linecolor": "white",
           "ticks": "",
           "title": {
            "standoff": 15
           },
           "zerolinecolor": "white",
           "zerolinewidth": 2
          }
         }
        },
        "xaxis": {
         "autorange": true,
         "range": [
          0,
          99
         ],
         "type": "linear"
        },
        "yaxis": {
         "autorange": true,
         "range": [
          0.778601821925905,
          0.9118981394502852
         ],
         "type": "linear"
        }
       }
      },
      "image/png": "[encoded data removed]",
      "text/html": [
       "<div>\n",
       "        \n",
       "        \n",
       "            <div id=\"bce1c0da-bc45-473e-a9ea-38e57ba03ad6\" class=\"plotly-graph-div\" style=\"height:525px; width:100%;\"></div>\n",
       "            <script type=\"text/javascript\">\n",
       "                require([\"plotly\"], function(Plotly) {\n",
       "                    window.PLOTLYENV=window.PLOTLYENV || {};\n",
       "                    \n",
       "                if (document.getElementById(\"bce1c0da-bc45-473e-a9ea-38e57ba03ad6\")) {\n",
       "                    Plotly.newPlot(\n",
       "                        'bce1c0da-bc45-473e-a9ea-38e57ba03ad6',\n",
       "                        [{\"type\": \"scatter\", \"x\": [0, 1, 2, 3, 4, 5, 6, 7, 8, 9, 10, 11, 12, 13, 14, 15, 16, 17, 18, 19, 20, 21, 22, 23, 24, 25, 26, 27, 28, 29, 30, 31, 32, 33, 34, 35, 36, 37, 38, 39, 40, 41, 42, 43, 44, 45, 46, 47, 48, 49, 50, 51, 52, 53, 54, 55, 56, 57, 58, 59, 60, 61, 62, 63, 64, 65, 66, 67, 68, 69, 70, 71, 72, 73, 74, 75, 76, 77, 78, 79, 80, 81, 82, 83, 84, 85, 86, 87, 88, 89, 90, 91, 92, 93, 94, 95, 96, 97, 98, 99], \"y\": [0.785266637802124, 0.812333345413208, 0.8282666802406311, 0.8357999920845032, 0.8412166833877563, 0.8454333543777466, 0.8489500284194946, 0.8514833450317383, 0.8568166494369507, 0.857366681098938, 0.86121666431427, 0.8617500066757202, 0.8640999794006348, 0.8649500012397766, 0.867733359336853, 0.8687333464622498, 0.869949996471405, 0.8710166811943054, 0.8740000128746033, 0.8740666508674622, 0.8743500113487244, 0.8760666847229004, 0.8778166770935059, 0.8784833550453186, 0.8795666694641113, 0.8801000118255615, 0.8808666467666626, 0.882099986076355, 0.8832333087921143, 0.8839666843414307, 0.8847000002861023, 0.8849999904632568, 0.8860499858856201, 0.8861833214759827, 0.8878666758537292, 0.8865833282470703, 0.8888499736785889, 0.8888833522796631, 0.8891833424568176, 0.8881999850273132, 0.8910999894142151, 0.8907333612442017, 0.8904666900634766, 0.8906999826431274, 0.8918833136558533, 0.8925833106040955, 0.8915666937828064, 0.8911833167076111, 0.8941500186920166, 0.8931666612625122, 0.8946666717529297, 0.8955000042915344, 0.8940333127975464, 0.8958500027656555, 0.8933500051498413, 0.8948333263397217, 0.8963666558265686, 0.8960833549499512, 0.8957333564758301, 0.8960666656494141, 0.8977333307266235, 0.8967166543006897, 0.8998000025749207, 0.8978333473205566, 0.8981833457946777, 0.8994666934013367, 0.8965833187103271, 0.8975666761398315, 0.8981000185012817, 0.9001833200454712, 0.8977333307266235, 0.899649977684021, 0.8988833427429199, 0.8994500041007996, 0.9000666737556458, 0.9007999897003174, 0.9000666737556458, 0.9007166624069214, 0.9008833169937134, 0.9006999731063843, 0.9014999866485596, 0.9004499912261963, 0.8997499942779541, 0.9020333290100098, 0.9017666578292847, 0.9031166434288025, 0.9016000032424927, 0.9013833403587341, 0.901533305644989, 0.902649998664856, 0.9011333584785461, 0.9036333560943604, 0.9035500288009644, 0.902899980545044, 0.9017333388328552, 0.9035333395004272, 0.9038666486740112, 0.9027666449546814, 0.9040499925613403, 0.9052333235740662]}],\n",
       "                        {\"template\": {\"data\": {\"bar\": [{\"error_x\": {\"color\": \"#2a3f5f\"}, \"error_y\": {\"color\": \"#2a3f5f\"}, \"marker\": {\"line\": {\"color\": \"#E5ECF6\", \"width\": 0.5}}, \"type\": \"bar\"}], \"barpolar\": [{\"marker\": {\"line\": {\"color\": \"#E5ECF6\", \"width\": 0.5}}, \"type\": \"barpolar\"}], \"carpet\": [{\"aaxis\": {\"endlinecolor\": \"#2a3f5f\", \"gridcolor\": \"white\", \"linecolor\": \"white\", \"minorgridcolor\": \"white\", \"startlinecolor\": \"#2a3f5f\"}, \"baxis\": {\"endlinecolor\": \"#2a3f5f\", \"gridcolor\": \"white\", \"linecolor\": \"white\", \"minorgridcolor\": \"white\", \"startlinecolor\": \"#2a3f5f\"}, \"type\": \"carpet\"}], \"choropleth\": [{\"colorbar\": {\"outlinewidth\": 0, \"ticks\": \"\"}, \"type\": \"choropleth\"}], \"contour\": [{\"colorbar\": {\"outlinewidth\": 0, \"ticks\": \"\"}, \"colorscale\": [[0.0, \"#0d0887\"], [0.1111111111111111, \"#46039f\"], [0.2222222222222222, \"#7201a8\"], [0.3333333333333333, \"#9c179e\"], [0.4444444444444444, \"#bd3786\"], [0.5555555555555556, \"#d8576b\"], [0.6666666666666666, \"#ed7953\"], [0.7777777777777778, \"#fb9f3a\"], [0.8888888888888888, \"#fdca26\"], [1.0, \"#f0f921\"]], \"type\": \"contour\"}], \"contourcarpet\": [{\"colorbar\": {\"outlinewidth\": 0, \"ticks\": \"\"}, \"type\": \"contourcarpet\"}], \"heatmap\": [{\"colorbar\": {\"outlinewidth\": 0, \"ticks\": \"\"}, \"colorscale\": [[0.0, \"#0d0887\"], [0.1111111111111111, \"#46039f\"], [0.2222222222222222, \"#7201a8\"], [0.3333333333333333, \"#9c179e\"], [0.4444444444444444, \"#bd3786\"], [0.5555555555555556, \"#d8576b\"], [0.6666666666666666, \"#ed7953\"], [0.7777777777777778, \"#fb9f3a\"], [0.8888888888888888, \"#fdca26\"], [1.0, \"#f0f921\"]], \"type\": \"heatmap\"}], \"heatmapgl\": [{\"colorbar\": {\"outlinewidth\": 0, \"ticks\": \"\"}, \"colorscale\": [[0.0, \"#0d0887\"], [0.1111111111111111, \"#46039f\"], [0.2222222222222222, \"#7201a8\"], [0.3333333333333333, \"#9c179e\"], [0.4444444444444444, \"#bd3786\"], [0.5555555555555556, \"#d8576b\"], [0.6666666666666666, \"#ed7953\"], [0.7777777777777778, \"#fb9f3a\"], [0.8888888888888888, \"#fdca26\"], [1.0, \"#f0f921\"]], \"type\": \"heatmapgl\"}], \"histogram\": [{\"marker\": {\"colorbar\": {\"outlinewidth\": 0, \"ticks\": \"\"}}, \"type\": \"histogram\"}], \"histogram2d\": [{\"colorbar\": {\"outlinewidth\": 0, \"ticks\": \"\"}, \"colorscale\": [[0.0, \"#0d0887\"], [0.1111111111111111, \"#46039f\"], [0.2222222222222222, \"#7201a8\"], [0.3333333333333333, \"#9c179e\"], [0.4444444444444444, \"#bd3786\"], [0.5555555555555556, \"#d8576b\"], [0.6666666666666666, \"#ed7953\"], [0.7777777777777778, \"#fb9f3a\"], [0.8888888888888888, \"#fdca26\"], [1.0, \"#f0f921\"]], \"type\": \"histogram2d\"}], \"histogram2dcontour\": [{\"colorbar\": {\"outlinewidth\": 0, \"ticks\": \"\"}, \"colorscale\": [[0.0, \"#0d0887\"], [0.1111111111111111, \"#46039f\"], [0.2222222222222222, \"#7201a8\"], [0.3333333333333333, \"#9c179e\"], [0.4444444444444444, \"#bd3786\"], [0.5555555555555556, \"#d8576b\"], [0.6666666666666666, \"#ed7953\"], [0.7777777777777778, \"#fb9f3a\"], [0.8888888888888888, \"#fdca26\"], [1.0, \"#f0f921\"]], \"type\": \"histogram2dcontour\"}], \"mesh3d\": [{\"colorbar\": {\"outlinewidth\": 0, \"ticks\": \"\"}, \"type\": \"mesh3d\"}], \"parcoords\": [{\"line\": {\"colorbar\": {\"outlinewidth\": 0, \"ticks\": \"\"}}, \"type\": \"parcoords\"}], \"pie\": [{\"automargin\": true, \"type\": \"pie\"}], \"scatter\": [{\"marker\": {\"colorbar\": {\"outlinewidth\": 0, \"ticks\": \"\"}}, \"type\": \"scatter\"}], \"scatter3d\": [{\"line\": {\"colorbar\": {\"outlinewidth\": 0, \"ticks\": \"\"}}, \"marker\": {\"colorbar\": {\"outlinewidth\": 0, \"ticks\": \"\"}}, \"type\": \"scatter3d\"}], \"scattercarpet\": [{\"marker\": {\"colorbar\": {\"outlinewidth\": 0, \"ticks\": \"\"}}, \"type\": \"scattercarpet\"}], \"scattergeo\": [{\"marker\": {\"colorbar\": {\"outlinewidth\": 0, \"ticks\": \"\"}}, \"type\": \"scattergeo\"}], \"scattergl\": [{\"marker\": {\"colorbar\": {\"outlinewidth\": 0, \"ticks\": \"\"}}, \"type\": \"scattergl\"}], \"scattermapbox\": [{\"marker\": {\"colorbar\": {\"outlinewidth\": 0, \"ticks\": \"\"}}, \"type\": \"scattermapbox\"}], \"scatterpolar\": [{\"marker\": {\"colorbar\": {\"outlinewidth\": 0, \"ticks\": \"\"}}, \"type\": \"scatterpolar\"}], \"scatterpolargl\": [{\"marker\": {\"colorbar\": {\"outlinewidth\": 0, \"ticks\": \"\"}}, \"type\": \"scatterpolargl\"}], \"scatterternary\": [{\"marker\": {\"colorbar\": {\"outlinewidth\": 0, \"ticks\": \"\"}}, \"type\": \"scatterternary\"}], \"surface\": [{\"colorbar\": {\"outlinewidth\": 0, \"ticks\": \"\"}, \"colorscale\": [[0.0, \"#0d0887\"], [0.1111111111111111, \"#46039f\"], [0.2222222222222222, \"#7201a8\"], [0.3333333333333333, \"#9c179e\"], [0.4444444444444444, \"#bd3786\"], [0.5555555555555556, \"#d8576b\"], [0.6666666666666666, \"#ed7953\"], [0.7777777777777778, \"#fb9f3a\"], [0.8888888888888888, \"#fdca26\"], [1.0, \"#f0f921\"]], \"type\": \"surface\"}], \"table\": [{\"cells\": {\"fill\": {\"color\": \"#EBF0F8\"}, \"line\": {\"color\": \"white\"}}, \"header\": {\"fill\": {\"color\": \"#C8D4E3\"}, \"line\": {\"color\": \"white\"}}, \"type\": \"table\"}]}, \"layout\": {\"annotationdefaults\": {\"arrowcolor\": \"#2a3f5f\", \"arrowhead\": 0, \"arrowwidth\": 1}, \"coloraxis\": {\"colorbar\": {\"outlinewidth\": 0, \"ticks\": \"\"}}, \"colorscale\": {\"diverging\": [[0, \"#8e0152\"], [0.1, \"#c51b7d\"], [0.2, \"#de77ae\"], [0.3, \"#f1b6da\"], [0.4, \"#fde0ef\"], [0.5, \"#f7f7f7\"], [0.6, \"#e6f5d0\"], [0.7, \"#b8e186\"], [0.8, \"#7fbc41\"], [0.9, \"#4d9221\"], [1, \"#276419\"]], \"sequential\": [[0.0, \"#0d0887\"], [0.1111111111111111, \"#46039f\"], [0.2222222222222222, \"#7201a8\"], [0.3333333333333333, \"#9c179e\"], [0.4444444444444444, \"#bd3786\"], [0.5555555555555556, \"#d8576b\"], [0.6666666666666666, \"#ed7953\"], [0.7777777777777778, \"#fb9f3a\"], [0.8888888888888888, \"#fdca26\"], [1.0, \"#f0f921\"]], \"sequentialminus\": [[0.0, \"#0d0887\"], [0.1111111111111111, \"#46039f\"], [0.2222222222222222, \"#7201a8\"], [0.3333333333333333, \"#9c179e\"], [0.4444444444444444, \"#bd3786\"], [0.5555555555555556, \"#d8576b\"], [0.6666666666666666, \"#ed7953\"], [0.7777777777777778, \"#fb9f3a\"], [0.8888888888888888, \"#fdca26\"], [1.0, \"#f0f921\"]]}, \"colorway\": [\"#636efa\", \"#EF553B\", \"#00cc96\", \"#ab63fa\", \"#FFA15A\", \"#19d3f3\", \"#FF6692\", \"#B6E880\", \"#FF97FF\", \"#FECB52\"], \"font\": {\"color\": \"#2a3f5f\"}, \"geo\": {\"bgcolor\": \"white\", \"lakecolor\": \"white\", \"landcolor\": \"#E5ECF6\", \"showlakes\": true, \"showland\": true, \"subunitcolor\": \"white\"}, \"hoverlabel\": {\"align\": \"left\"}, \"hovermode\": \"closest\", \"mapbox\": {\"style\": \"light\"}, \"paper_bgcolor\": \"white\", \"plot_bgcolor\": \"#E5ECF6\", \"polar\": {\"angularaxis\": {\"gridcolor\": \"white\", \"linecolor\": \"white\", \"ticks\": \"\"}, \"bgcolor\": \"#E5ECF6\", \"radialaxis\": {\"gridcolor\": \"white\", \"linecolor\": \"white\", \"ticks\": \"\"}}, \"scene\": {\"xaxis\": {\"backgroundcolor\": \"#E5ECF6\", \"gridcolor\": \"white\", \"gridwidth\": 2, \"linecolor\": \"white\", \"showbackground\": true, \"ticks\": \"\", \"zerolinecolor\": \"white\"}, \"yaxis\": {\"backgroundcolor\": \"#E5ECF6\", \"gridcolor\": \"white\", \"gridwidth\": 2, \"linecolor\": \"white\", \"showbackground\": true, \"ticks\": \"\", \"zerolinecolor\": \"white\"}, \"zaxis\": {\"backgroundcolor\": \"#E5ECF6\", \"gridcolor\": \"white\", \"gridwidth\": 2, \"linecolor\": \"white\", \"showbackground\": true, \"ticks\": \"\", \"zerolinecolor\": \"white\"}}, \"shapedefaults\": {\"line\": {\"color\": \"#2a3f5f\"}}, \"ternary\": {\"aaxis\": {\"gridcolor\": \"white\", \"linecolor\": \"white\", \"ticks\": \"\"}, \"baxis\": {\"gridcolor\": \"white\", \"linecolor\": \"white\", \"ticks\": \"\"}, \"bgcolor\": \"#E5ECF6\", \"caxis\": {\"gridcolor\": \"white\", \"linecolor\": \"white\", \"ticks\": \"\"}}, \"title\": {\"x\": 0.05}, \"xaxis\": {\"automargin\": true, \"gridcolor\": \"white\", \"linecolor\": \"white\", \"ticks\": \"\", \"title\": {\"standoff\": 15}, \"zerolinecolor\": \"white\", \"zerolinewidth\": 2}, \"yaxis\": {\"automargin\": true, \"gridcolor\": \"white\", \"linecolor\": \"white\", \"ticks\": \"\", \"title\": {\"standoff\": 15}, \"zerolinecolor\": \"white\", \"zerolinewidth\": 2}}}},\n",
       "                        {\"responsive\": true}\n",
       "                    ).then(function(){\n",
       "                            \n",
       "var gd = document.getElementById('bce1c0da-bc45-473e-a9ea-38e57ba03ad6');\n",
       "var x = new MutationObserver(function (mutations, observer) {{\n",
       "        var display = window.getComputedStyle(gd).display;\n",
       "        if (!display || display === 'none') {{\n",
       "            console.log([gd, 'removed!']);\n",
       "            Plotly.purge(gd);\n",
       "            observer.disconnect();\n",
       "        }}\n",
       "}});\n",
       "\n",
       "// Listen for the removal of the full notebook cells\n",
       "var notebookContainer = gd.closest('#notebook-container');\n",
       "if (notebookContainer) {{\n",
       "    x.observe(notebookContainer, {childList: true});\n",
       "}}\n",
       "\n",
       "// Listen for the clearing of the current output cell\n",
       "var outputEl = gd.closest('.output');\n",
       "if (outputEl) {{\n",
       "    x.observe(outputEl, {childList: true});\n",
       "}}\n",
       "\n",
       "                        })\n",
       "                };\n",
       "                });\n",
       "            </script>\n",
       "        </div>"
      ]
     },
     "metadata": {},
     "output_type": "display_data"
    }
   ],
   "source": [
    "fig = go.Figure(\n",
    "    data=go.Scatter(x=hist.epoch, y=hist.history[\"accuracy\"])\n",
    ")\n",
    "fig.show()"
   ]
  },
  {
   "cell_type": "code",
   "execution_count": 79,
   "metadata": {},
   "outputs": [
    {
     "name": "stdout",
     "output_type": "stream",
     "text": [
      "10000/10000 [==============================] - 1s 52us/sample - loss: 0.4804 - accuracy: 0.8613\n"
     ]
    }
   ],
   "source": [
    "scores = mnist_model.evaluate(X_test, y_test)"
   ]
  },
  {
   "cell_type": "code",
   "execution_count": 80,
   "metadata": {},
   "outputs": [
    {
     "data": {
      "text/plain": [
       "[0.480407804954052, 0.8613]"
      ]
     },
     "execution_count": 80,
     "metadata": {},
     "output_type": "execute_result"
    }
   ],
   "source": [
    "scores"
   ]
  },
  {
   "cell_type": "code",
   "execution_count": 91,
   "metadata": {},
   "outputs": [
    {
     "name": "stderr",
     "output_type": "stream",
     "text": [
      "/home/cowley/venv/lambda/lib/python3.6/site-packages/ipykernel_launcher.py:13: UserWarning:\n",
      "\n",
      "Matplotlib is currently using module://ipykernel.pylab.backend_inline, which is a non-GUI backend, so cannot show the figure.\n",
      "\n"
     ]
    },
    {
     "data": {
      "image/png": "[encoded data removed]",
      "text/plain": [
       "<Figure size 3600x360 with 10 Axes>"
      ]
     },
     "metadata": {
      "needs_background": "light"
     },
     "output_type": "display_data"
    },
    {
     "data": {
      "image/png": "[encoded data removed]",
      "text/plain": [
       "<Figure size 3600x360 with 10 Axes>"
      ]
     },
     "metadata": {
      "needs_background": "light"
     },
     "output_type": "display_data"
    },
    {
     "data": {
      "image/png": "[encoded data removed]",
      "text/plain": [
       "<Figure size 3600x360 with 10 Axes>"
      ]
     },
     "metadata": {
      "needs_background": "light"
     },
     "output_type": "display_data"
    },
    {
     "data": {
      "image/png": "[encoded data removed]",
      "text/plain": [
       "<Figure size 3600x360 with 10 Axes>"
      ]
     },
     "metadata": {
      "needs_background": "light"
     },
     "output_type": "display_data"
    },
    {
     "data": {
      "image/png": "[encoded data removed]",
      "text/plain": [
       "<Figure size 3600x360 with 10 Axes>"
      ]
     },
     "metadata": {
      "needs_background": "light"
     },
     "output_type": "display_data"
    },
    {
     "data": {
      "image/png": "[encoded data removed]",
      "text/plain": [
       "<Figure size 3600x360 with 10 Axes>"
      ]
     },
     "metadata": {
      "needs_background": "light"
     },
     "output_type": "display_data"
    },
    {
     "data": {
      "image/png": "[encoded data removed]",
      "text/plain": [
       "<Figure size 3600x360 with 10 Axes>"
      ]
     },
     "metadata": {
      "needs_background": "light"
     },
     "output_type": "display_data"
    },
    {
     "data": {
      "image/png": "[encoded data removed]",
      "text/plain": [
       "<Figure size 3600x360 with 10 Axes>"
      ]
     },
     "metadata": {
      "needs_background": "light"
     },
     "output_type": "display_data"
    },
    {
     "data": {
      "image/png": "[encoded data removed]",
      "text/plain": [
       "<Figure size 3600x360 with 10 Axes>"
      ]
     },
     "metadata": {
      "needs_background": "light"
     },
     "output_type": "display_data"
    },
    {
     "data": {
      "image/png": "[encoded data removed]",
      "text/plain": [
       "<Figure size 3600x360 with 10 Axes>"
      ]
     },
     "metadata": {
      "needs_background": "light"
     },
     "output_type": "display_data"
    }
   ],
   "source": [
    "(X_train, y_train), (X_test, y_test) = fashion_mnist.load_data()\n",
    "X_train[0]\n",
    "\n",
    "from matplotlib import pyplot as plt\n",
    "\n",
    "for n in range(10):\n",
    "    samples = [sample for sample, label in zip(X_train, y_train) if label == n][:10]\n",
    "    \n",
    "    fig, axes = plt.subplots(ncols=10, figsize=(50, 5))\n",
    "    for sample, ax in zip(samples, axes):\n",
    "        ax.imshow(sample, \"gray\")\n",
    "    axes[0].set_title(f\"Label: {n}\")\n",
    "    fig.show()"
   ]
  },
  {
   "cell_type": "code",
   "execution_count": null,
   "metadata": {},
   "outputs": [
    {
     "name": "stdout",
     "output_type": "stream",
     "text": [
      "[[0.0000000e+00 4.2540041e-32 0.0000000e+00 6.0763641e-22 0.0000000e+00\n",
      "  6.2277113e-06 0.0000000e+00 2.4490869e-02 3.1288147e-12 9.7550291e-01]\n",
      " [1.1578869e-04 6.6115785e-17 9.7222060e-01 3.6498570e-06 1.5980516e-02\n",
      "  0.0000000e+00 1.1675851e-02 0.0000000e+00 3.5619742e-06 0.0000000e+00]\n",
      " [2.9134998e-15 1.0000000e+00 3.8737752e-29 7.6697444e-18 8.8426807e-19\n",
      "  0.0000000e+00 1.7395996e-20 0.0000000e+00 2.2922558e-15 0.0000000e+00]\n",
      " [4.9873228e-15 1.0000000e+00 2.1592176e-28 1.3050770e-15 4.7768448e-18\n",
      "  0.0000000e+00 3.3212639e-20 0.0000000e+00 3.0845896e-16 0.0000000e+00]\n",
      " [4.3081131e-02 8.7933615e-04 8.1027769e-02 9.4571635e-03 3.9583568e-02\n",
      "  4.0546850e-16 8.2303727e-01 7.1256362e-19 2.9337928e-03 1.8325740e-24]\n",
      " [2.3174193e-11 1.0000000e+00 1.0051063e-21 9.1055988e-14 3.4011642e-14\n",
      "  0.0000000e+00 2.7732913e-15 0.0000000e+00 6.4193442e-11 0.0000000e+00]\n",
      " [1.9899129e-07 3.1771039e-09 4.3774562e-04 2.0738622e-05 9.9946159e-01\n",
      "  0.0000000e+00 7.9480458e-05 0.0000000e+00 1.9325432e-07 0.0000000e+00]\n",
      " [3.5773226e-04 9.9236672e-07 6.7771092e-04 3.9088936e-05 1.0847720e-02\n",
      "  0.0000000e+00 9.8807681e-01 0.0000000e+00 2.6092799e-08 0.0000000e+00]\n",
      " [0.0000000e+00 0.0000000e+00 0.0000000e+00 0.0000000e+00 0.0000000e+00\n",
      "  1.0000000e+00 0.0000000e+00 0.0000000e+00 0.0000000e+00 0.0000000e+00]\n",
      " [2.1105000e-09 1.1241796e-24 3.5589951e-11 1.9845427e-12 1.2757941e-11\n",
      "  7.9663319e-04 6.7488576e-10 9.9854797e-01 3.1004201e-06 6.5237214e-04]]\n"
     ]
    },
    {
     "name": "stderr",
     "output_type": "stream",
     "text": [
      "/home/cowley/venv/lambda/lib/python3.6/site-packages/ipykernel_launcher.py:12: UserWarning:\n",
      "\n",
      "Matplotlib is currently using module://ipykernel.pylab.backend_inline, which is a non-GUI backend, so cannot show the figure.\n",
      "\n"
     ]
    },
    {
     "data": {
      "image/png": "[encoded data removed]",
      "text/plain": [
       "<Figure size 3600x360 with 10 Axes>"
      ]
     },
     "metadata": {
      "needs_background": "light"
     },
     "output_type": "display_data"
    }
   ],
   "source": [
    "pred_test = mnist_model.predict(X_test.reshape(X_test.shape[0], X_test.shape[1]*X_test.shape[2]))\n",
    "\n",
    "print(pred_test[:10])\n",
    "\n",
    "for n in range(10):\n",
    "    samples = [sample for sample, label in zip(X_test, pred_test) if label[n] > 0][:10]\n",
    "    \n",
    "    fig, axes = plt.subplots(ncols=10, figsize=(50, 5))\n",
    "    for sample, ax in zip(samples, axes):\n",
    "        ax.imshow(sample, \"gray\")\n",
    "    axes[0].set_title(f\"Label: {n}\")\n",
    "    fig.show()"
   ]
  },
  {
   "cell_type": "markdown",
   "metadata": {
    "colab_type": "text",
    "id": "zv_3xNMjzdLI"
   },
   "source": [
    "## Stretch Goals:\n",
    "\n",
    "- Use Hyperparameter Tuning to make the accuracy of your models as high as possible. (error as low as possible)\n",
    "- Use Cross Validation techniques to get more consistent results with your model.\n",
    "- Use GridSearchCV to try different combinations of hyperparameters. \n",
    "- Start looking into other types of Keras layers for CNNs and RNNs maybe try and build a CNN model for fashion-MNIST to see how the results compare."
   ]
  }
 ],
 "metadata": {
  "colab": {
   "name": "LS_DS_433_Keras_Assignment.ipynb",
   "provenance": [],
   "version": "0.3.2"
  },
  "kernelspec": {
   "display_name": "Python 3",
   "language": "python",
   "name": "python3"
  },
  "language_info": {
   "codemirror_mode": {
    "name": "ipython",
    "version": 3
   },
   "file_extension": ".py",
   "mimetype": "text/x-python",
   "name": "python",
   "nbconvert_exporter": "python",
   "pygments_lexer": "ipython3",
   "version": "3.6.9"
  }
 },
 "nbformat": 4,
 "nbformat_minor": 4
}
